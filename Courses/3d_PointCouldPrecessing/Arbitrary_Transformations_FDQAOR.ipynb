{
  "nbformat": 4,
  "nbformat_minor": 0,
  "metadata": {
    "colab": {
      "provenance": []
    },
    "kernelspec": {
      "name": "python3",
      "display_name": "Python 3"
    },
    "language_info": {
      "name": "python"
    }
  },
  "cells": [
    {
      "cell_type": "markdown",
      "source": [
        "# Arbitrary Transformations\n",
        "\n",
        "# Li Kailang FDQAOR\n",
        "\n",
        "Due No Due Date Points 0 Submitting a file upload File Types py and ipynb\n",
        "Download 场景 5。\n",
        "\n",
        "Estimate rigid body transformations based on Euler angles [Roll, Pitch, Yaw] and translation vector [x, y, z]\n",
        "\n",
        "Estimate Euler angles and translation that create rigid body transformation that transforms the 3D point cloud from the lidar coordinate system to an imaginary camera coordinate system.\n",
        "\n",
        "Lidar coordinate system:\n",
        "\n",
        "Camera coordinate system:\n",
        "\n",
        "Lidar_2_cam.png\n",
        "\n",
        "Add to the transformations that you estimated in the previous step an additional rigid body transformation that will act as a viewer (eg: see at 0, 45 and 90 deg in azimuth)\n",
        "\n",
        "Construct an arbitrary 2D projection matrix to project to 2D plane :\n",
        "\n",
        "Fx: 800\n",
        "Fy: 800\n",
        "Height: 720\n",
        "Width: 1920\n",
        "PPX: Height / 2 (pixel position)\n",
        "PPY: Width / 2 (pixel position)\n",
        "Project onto a black image using hsv colormap:\n",
        "cmap = plt.cm.get_cmap('hsv ', 256)\n",
        "cmap = np.array([cmap(i) for i in range(256)])[:, :-1] * 255"
      ],
      "metadata": {
        "id": "5YIhmyUgri_Y"
      }
    },
    {
      "cell_type": "markdown",
      "source": [
        "1. 加载 Scene 5 的点云数据"
      ],
      "metadata": {
        "id": "--mNZqxqsEFJ"
      }
    },
    {
      "cell_type": "code",
      "source": [
        "from google.colab import drive\n",
        "drive.mount('/content/drive')\n"
      ],
      "metadata": {
        "colab": {
          "base_uri": "https://localhost:8080/"
        },
        "id": "XhMfryN0sX-9",
        "outputId": "e8067f22-6b51-4246-cd11-a01175c20bc7"
      },
      "execution_count": 2,
      "outputs": [
        {
          "output_type": "stream",
          "name": "stdout",
          "text": [
            "Mounted at /content/drive\n"
          ]
        }
      ]
    },
    {
      "cell_type": "code",
      "execution_count": 3,
      "metadata": {
        "colab": {
          "base_uri": "https://localhost:8080/"
        },
        "id": "h-ZqODMsplHk",
        "outputId": "82dcb0a0-62a8-4eab-807d-995361fd109d"
      },
      "outputs": [
        {
          "output_type": "stream",
          "name": "stdout",
          "text": [
            "点云数据加载完成\n"
          ]
        }
      ],
      "source": [
        "import numpy as np\n",
        "\n",
        "# 加载 bin 文件\n",
        "def load_point_cloud_from_bin(bin_path):\n",
        "    point_cloud = np.fromfile(bin_path, dtype=np.float32).reshape(-1, 4)  # x, y, z, intensity\n",
        "    return point_cloud[:, :3], point_cloud[:, 3]  # 返回xyz坐标和强度\n",
        "\n",
        "# 替换为实际路径\n",
        "bin_file_path = '/content/drive/MyDrive/3d point could/2011_09_26_drive_0005_sync/2011_09_26/2011_09_26_drive_0005_sync/velodyne_points/data/0000000000.bin'\n",
        "points, intensity = load_point_cloud_from_bin(bin_file_path)\n",
        "x, y, z = points[:, 0], points[:, 1], points[:, 2]\n",
        "\n",
        "print(\"点云数据加载完成\")\n"
      ]
    },
    {
      "cell_type": "markdown",
      "source": [
        "2. 构建刚体变换"
      ],
      "metadata": {
        "id": "NQzSHL7RsNow"
      }
    },
    {
      "cell_type": "code",
      "source": [
        "import math\n",
        "\n",
        "# 欧拉角和平移向量（请根据实际任务修改值）\n",
        "roll, pitch, yaw = np.deg2rad([10, 20, 30])  # 角度转弧度\n",
        "tx, ty, tz = 5, 2, 3  # 平移向量\n",
        "\n",
        "# 计算旋转矩阵\n",
        "def euler_to_rotation_matrix(roll, pitch, yaw):\n",
        "    R_x = np.array([[1, 0, 0],\n",
        "                    [0, math.cos(roll), -math.sin(roll)],\n",
        "                    [0, math.sin(roll), math.cos(roll)]])\n",
        "    R_y = np.array([[math.cos(pitch), 0, math.sin(pitch)],\n",
        "                    [0, 1, 0],\n",
        "                    [-math.sin(pitch), 0, math.cos(pitch)]])\n",
        "    R_z = np.array([[math.cos(yaw), -math.sin(yaw), 0],\n",
        "                    [math.sin(yaw), math.cos(yaw), 0],\n",
        "                    [0, 0, 1]])\n",
        "    return R_z @ R_y @ R_x\n",
        "\n",
        "R = euler_to_rotation_matrix(roll, pitch, yaw)\n",
        "T = np.array([tx, ty, tz])\n",
        "\n",
        "# 构建刚体变换\n",
        "def transform_points(points, R, T):\n",
        "    return (R @ points.T).T + T\n",
        "\n",
        "transformed_points = transform_points(points, R, T)\n",
        "print(\"刚体变换完成\")\n"
      ],
      "metadata": {
        "colab": {
          "base_uri": "https://localhost:8080/"
        },
        "id": "kwm76JTgsqII",
        "outputId": "5fecb1d9-e4d0-4017-a5cd-4797689f8c9b"
      },
      "execution_count": 4,
      "outputs": [
        {
          "output_type": "stream",
          "name": "stdout",
          "text": [
            "刚体变换完成\n"
          ]
        }
      ]
    },
    {
      "cell_type": "markdown",
      "source": [
        "3. 添加额外变换作为视角调整"
      ],
      "metadata": {
        "id": "mE1tgQyVswPp"
      }
    },
    {
      "cell_type": "code",
      "source": [
        "# 添加额外变换模拟视角调整\n",
        "yaw_view = np.deg2rad(45)  # 视角方位角，例如 45 度\n",
        "R_view = euler_to_rotation_matrix(0, 0, yaw_view)  # 仅旋转绕Z轴（方位角）\n",
        "transformed_points_view = transform_points(transformed_points, R_view, np.array([0, 0, 0]))\n"
      ],
      "metadata": {
        "id": "ni9Vg5vZs0GP"
      },
      "execution_count": 6,
      "outputs": []
    },
    {
      "cell_type": "markdown",
      "source": [
        "4. 投影到2D平面"
      ],
      "metadata": {
        "id": "Nlpsp2KUs2GG"
      }
    },
    {
      "cell_type": "code",
      "source": [
        "# 投影参数\n",
        "fx = 800\n",
        "fy = 800\n",
        "height = 720\n",
        "width = 1920\n",
        "ppx = width / 2\n",
        "ppy = height / 2\n",
        "\n",
        "# 投影矩阵\n",
        "projection_matrix = np.array([[fx, 0, ppx, 0],\n",
        "                               [0, fy, ppy, 0],\n",
        "                               [0, 0, 1, 0]])\n",
        "\n",
        "# 添加一列1表示齐次坐标\n",
        "points_homogeneous = np.hstack((transformed_points_view, np.ones((transformed_points_view.shape[0], 1))))\n",
        "\n",
        "# 投影到2D\n",
        "points_2d = (projection_matrix @ points_homogeneous.T).T\n",
        "points_2d[:, 0] /= points_2d[:, 2]\n",
        "points_2d[:, 1] /= points_2d[:, 2]\n",
        "\n",
        "# 过滤有效点\n",
        "valid_idx = (points_2d[:, 0] >= 0) & (points_2d[:, 0] < width) & \\\n",
        "            (points_2d[:, 1] >= 0) & (points_2d[:, 1] < height)\n",
        "points_2d = points_2d[valid_idx]\n",
        "intensity = intensity[valid_idx]\n"
      ],
      "metadata": {
        "id": "wQMWIZ0Hs5Hx"
      },
      "execution_count": 7,
      "outputs": []
    },
    {
      "cell_type": "markdown",
      "source": [
        "5. 使用 HSV colormap 进行可视化\n"
      ],
      "metadata": {
        "id": "dq2SA0xjtCXz"
      }
    },
    {
      "cell_type": "code",
      "source": [
        "import matplotlib.pyplot as plt\n",
        "import cv2\n",
        "\n",
        "# 创建黑色图像\n",
        "image = np.zeros((height, width, 3), dtype=np.uint8)\n",
        "\n",
        "# 使用HSV颜色映射\n",
        "cmap = plt.cm.get_cmap('hsv', 256)\n",
        "cmap = np.array([cmap(i) for i in range(256)])[:, :-1] * 255\n",
        "\n",
        "# 将强度映射到颜色\n",
        "intensity_normalized = (intensity / np.max(intensity) * 255).astype(np.int32)\n",
        "colors = cmap[intensity_normalized]\n",
        "\n",
        "# 在图像上绘制点\n",
        "for i in range(points_2d.shape[0]):\n",
        "    x, y = int(points_2d[i, 0]), int(points_2d[i, 1])\n",
        "    if 0 <= x < width and 0 <= y < height:\n",
        "        image[y, x] = colors[intensity_normalized[i]]\n",
        "\n",
        "# 转换为RGB格式并显示\n",
        "image_rgb = cv2.cvtColor(image, cv2.COLOR_HSV2RGB)\n",
        "plt.figure(figsize=(20, 20))\n",
        "plt.imshow(image_rgb)\n",
        "plt.axis('off')\n",
        "plt.title('Projected Point Cloud with HSV Colormap')\n",
        "plt.show()\n"
      ],
      "metadata": {
        "colab": {
          "base_uri": "https://localhost:8080/",
          "height": 582
        },
        "id": "XC0IPKUctJdM",
        "outputId": "b74b2636-cf4f-4f44-bc1a-822977bd17f0"
      },
      "execution_count": 9,
      "outputs": [
        {
          "output_type": "stream",
          "name": "stderr",
          "text": [
            "<ipython-input-9-0fd6287705bc>:8: MatplotlibDeprecationWarning: The get_cmap function was deprecated in Matplotlib 3.7 and will be removed two minor releases later. Use ``matplotlib.colormaps[name]`` or ``matplotlib.colormaps.get_cmap(obj)`` instead.\n",
            "  cmap = plt.cm.get_cmap('hsv', 256)\n"
          ]
        },
        {
          "output_type": "display_data",
          "data": {
            "text/plain": [
              "<Figure size 2000x2000 with 1 Axes>"
            ],
            "image/png": "[encoded data removed]"
          },
          "metadata": {}
        }
      ]
    }
  ]
}