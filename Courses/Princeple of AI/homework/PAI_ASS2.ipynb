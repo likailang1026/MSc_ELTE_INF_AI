{
  "nbformat": 4,
  "nbformat_minor": 0,
  "metadata": {
    "colab": {
      "provenance": [],
      "gpuType": "T4"
    },
    "kernelspec": {
      "name": "python3",
      "display_name": "Python 3"
    },
    "language_info": {
      "name": "python"
    },
    "accelerator": "GPU"
  },
  "cells": [
    {
      "cell_type": "markdown",
      "source": [
        "# Second assignment\n",
        "\n",
        "Li Kailang\n",
        "\n",
        "FDQAOR"
      ],
      "metadata": {
        "id": "6VqhvjSm1oG1"
      }
    },
    {
      "cell_type": "markdown",
      "source": [
        "## 0. Download the dataset from kaggle\n",
        "\n",
        "This dataset contains 300 images of three types of animals: cats, dogs, and foxes. Each category has 100 pictures. The images can help in learning about animals and building computer programs that recognize them. You can use this dataset for school projects, studies in artificial intelligence, or just to learn more about these animals."
      ],
      "metadata": {
        "id": "O5JMl73m1vL3"
      }
    },
    {
      "cell_type": "code",
      "source": [
        "from google.colab import drive\n",
        "\n",
        "# 挂载Google Drive\n",
        "drive.mount('/content/drive')\n"
      ],
      "metadata": {
        "colab": {
          "base_uri": "https://localhost:8080/"
        },
        "id": "bHCTKwNK8r06",
        "outputId": "69d84510-d051-4527-a5db-2eeae72f6e6e"
      },
      "execution_count": 1,
      "outputs": [
        {
          "output_type": "stream",
          "name": "stdout",
          "text": [
            "Mounted at /content/drive\n"
          ]
        }
      ]
    },
    {
      "cell_type": "code",
      "source": [
        "import zipfile\n",
        "import os\n",
        "\n",
        "# Google Drive中压缩文件的路径\n",
        "zip_file_path = '/content/drive/MyDrive/Kaggle_dataset/archive.zip'\n",
        "\n",
        "# 解压到Colab本地目录\n",
        "colab_dataset_path = '/content/animal_image_dataset'\n",
        "\n",
        "# 如果解压目标目录存在，先删除它\n",
        "if os.path.exists(colab_dataset_path):\n",
        "    import shutil\n",
        "    shutil.rmtree(colab_dataset_path)\n",
        "\n",
        "# 解压缩\n",
        "with zipfile.ZipFile(zip_file_path, 'r') as zip_ref:\n",
        "    zip_ref.extractall(colab_dataset_path)\n",
        "\n",
        "print(f\"数据集已解压到: {colab_dataset_path}\")\n",
        "\n"
      ],
      "metadata": {
        "colab": {
          "base_uri": "https://localhost:8080/"
        },
        "id": "qmXjJwM48rvv",
        "outputId": "4e750322-250d-47c8-a282-9ce3a1a2bec7"
      },
      "execution_count": 2,
      "outputs": [
        {
          "output_type": "stream",
          "name": "stdout",
          "text": [
            "数据集已解压到: /content/animal_image_dataset\n"
          ]
        }
      ]
    },
    {
      "cell_type": "markdown",
      "source": [
        "## 1. Build the dataset"
      ],
      "metadata": {
        "id": "OX40fqtK1vkO"
      }
    },
    {
      "cell_type": "markdown",
      "source": [],
      "metadata": {
        "id": "YG_AumZ96K4B"
      }
    },
    {
      "cell_type": "code",
      "source": [
        "from sklearn.model_selection import train_test_split\n",
        "import shutil\n",
        "\n",
        "colab_dataset_path = \"/content/animal_image_dataset/Animal Image Dataset-Cats, Dogs, and Foxes\"\n",
        "\n",
        "# 创建用于存储训练、验证和测试集的目录\n",
        "split_dirs = [\"train\", \"val\", \"test\"]\n",
        "\n",
        "categories = [\"cat\", \"dog\", \"fox\"]\n",
        "\n",
        "for split in split_dirs:\n",
        "    for category in categories:\n",
        "        split_path = os.path.join(colab_dataset_path, split, category)\n",
        "        os.makedirs(split_path, exist_ok=True)\n",
        "\n",
        "print(\"训练集、验证集和测试集目录已创建\")\n",
        "\n",
        "# 划分数据集\n",
        "for category in categories:\n",
        "    category_path = os.path.join(colab_dataset_path, category)\n",
        "    if not os.path.exists(category_path):\n",
        "        print(f\"目录 '{category_path}' 不存在，跳过！\")\n",
        "        continue\n",
        "\n",
        "    images = os.listdir(category_path)\n",
        "    if len(images) == 0:\n",
        "        print(f\"目录 '{category_path}' 中没有图片，跳过！\")\n",
        "        continue\n",
        "\n",
        "    # 使用train_test_split划分数据\n",
        "    train_val_imgs, test_imgs = train_test_split(images, test_size=0.1, random_state=42)\n",
        "    train_imgs, val_imgs = train_test_split(train_val_imgs, test_size=0.2, random_state=42)\n",
        "\n",
        "    # 将文件移动到对应的文件夹\n",
        "    for img in train_imgs:\n",
        "        shutil.move(os.path.join(category_path, img), os.path.join(colab_dataset_path, \"train\", category))\n",
        "    for img in val_imgs:\n",
        "        shutil.move(os.path.join(category_path, img), os.path.join(colab_dataset_path, \"val\", category))\n",
        "    for img in test_imgs:\n",
        "        shutil.move(os.path.join(category_path, img), os.path.join(colab_dataset_path, \"test\", category))\n",
        "\n",
        "print(\"数据集划分完成！\")\n"
      ],
      "metadata": {
        "colab": {
          "base_uri": "https://localhost:8080/"
        },
        "id": "g8xUB3-z6JZP",
        "outputId": "3f16f1af-67d0-46e5-8fa8-4473e4369515"
      },
      "execution_count": 4,
      "outputs": [
        {
          "output_type": "stream",
          "name": "stdout",
          "text": [
            "训练集、验证集和测试集目录已创建\n",
            "数据集划分完成！\n"
          ]
        }
      ]
    },
    {
      "cell_type": "markdown",
      "source": [
        "## 2. Train model"
      ],
      "metadata": {
        "id": "dTUFYs_pA7QC"
      }
    },
    {
      "cell_type": "code",
      "source": [
        "import tensorflow as tf\n",
        "from tensorflow.keras import layers, models\n",
        "from tensorflow.keras.preprocessing.image import ImageDataGenerator\n",
        "import os\n"
      ],
      "metadata": {
        "id": "jT1uJ6MDJX4N"
      },
      "execution_count": 12,
      "outputs": []
    },
    {
      "cell_type": "code",
      "source": [
        "# 数据集路径\n",
        "train_dir = '/content/animal_image_dataset/Animal Image Dataset-Cats, Dogs, and Foxes/train'\n",
        "val_dir = '/content/animal_image_dataset/Animal Image Dataset-Cats, Dogs, and Foxes/val'\n",
        "\n",
        "# 图像尺寸和批量大小\n",
        "img_height, img_width = 224, 224\n",
        "batch_size = 32\n",
        "\n",
        "# 数据增强和加载\n",
        "train_datagen = ImageDataGenerator(\n",
        "    rescale=1.0/255,  # 将像素值归一化到 [0,1]\n",
        "    rotation_range=30,\n",
        "    width_shift_range=0.2,\n",
        "    height_shift_range=0.2,\n",
        "    shear_range=0.2,\n",
        "    zoom_range=0.2,\n",
        "    horizontal_flip=True\n",
        ")\n",
        "\n",
        "val_datagen = ImageDataGenerator(rescale=1.0/255)\n",
        "\n",
        "# 训练集生成器\n",
        "train_generator = train_datagen.flow_from_directory(\n",
        "    train_dir,\n",
        "    target_size=(img_height, img_width),\n",
        "    batch_size=batch_size,\n",
        "    class_mode='categorical'\n",
        ")\n",
        "\n",
        "# 验证集生成器\n",
        "val_generator = val_datagen.flow_from_directory(\n",
        "    val_dir,\n",
        "    target_size=(img_height, img_width),\n",
        "    batch_size=batch_size,\n",
        "    class_mode='categorical'\n",
        ")\n"
      ],
      "metadata": {
        "colab": {
          "base_uri": "https://localhost:8080/"
        },
        "id": "1urAdiSvJYOM",
        "outputId": "5927e242-41a2-4e8e-ba9f-416f5d55f985"
      },
      "execution_count": 13,
      "outputs": [
        {
          "output_type": "stream",
          "name": "stdout",
          "text": [
            "Found 218 images belonging to 3 classes.\n",
            "Found 57 images belonging to 3 classes.\n"
          ]
        }
      ]
    },
    {
      "cell_type": "code",
      "source": [
        "# 加载预训练模型（MobileNetV2）\n",
        "base_model = tf.keras.applications.MobileNetV2(\n",
        "    input_shape=(img_height, img_width, 3),\n",
        "    include_top=False,  # 不包含最后的全连接层\n",
        "    weights='imagenet'\n",
        ")\n",
        "\n",
        "# 冻结预训练模型的权重\n",
        "base_model.trainable = False\n",
        "\n",
        "# 构建分类头部\n",
        "model = models.Sequential([\n",
        "    base_model,\n",
        "    layers.GlobalAveragePooling2D(),\n",
        "    layers.Dense(128, activation='relu'),\n",
        "    layers.Dropout(0.3),\n",
        "    layers.Dense(3, activation='softmax')  # 三分类问题\n",
        "])\n",
        "\n",
        "# 编译模型\n",
        "model.compile(\n",
        "    optimizer=tf.keras.optimizers.Adam(learning_rate=0.001),\n",
        "    loss='categorical_crossentropy',\n",
        "    metrics=['accuracy']\n",
        ")\n",
        "\n",
        "model.summary()\n"
      ],
      "metadata": {
        "colab": {
          "base_uri": "https://localhost:8080/",
          "height": 340
        },
        "id": "bqjZ_hD5JYFf",
        "outputId": "ab1b3fac-c170-4248-a9e0-cb4c21d909d1"
      },
      "execution_count": 14,
      "outputs": [
        {
          "output_type": "stream",
          "name": "stdout",
          "text": [
            "Downloading data from https://storage.googleapis.com/tensorflow/keras-applications/mobilenet_v2/mobilenet_v2_weights_tf_dim_ordering_tf_kernels_1.0_224_no_top.h5\n",
            "\u001b[1m9406464/9406464\u001b[0m \u001b[32m━━━━━━━━━━━━━━━━━━━━\u001b[0m\u001b[37m\u001b[0m \u001b[1m2s\u001b[0m 0us/step\n"
          ]
        },
        {
          "output_type": "display_data",
          "data": {
            "text/plain": [
              "\u001b[1mModel: \"sequential\"\u001b[0m\n"
            ],
            "text/html": [
              "<pre style=\"white-space:pre;overflow-x:auto;line-height:normal;font-family:Menlo,'DejaVu Sans Mono',consolas,'Courier New',monospace\"><span style=\"font-weight: bold\">Model: \"sequential\"</span>\n",
              "</pre>\n"
            ]
          },
          "metadata": {}
        },
        {
          "output_type": "display_data",
          "data": {
            "text/plain": [
              "┏━━━━━━━━━━━━━━━━━━━━━━━━━━━━━━━━━━━━━━┳━━━━━━━━━━━━━━━━━━━━━━━━━━━━━┳━━━━━━━━━━━━━━━━━┓\n",
              "┃\u001b[1m \u001b[0m\u001b[1mLayer (type)                        \u001b[0m\u001b[1m \u001b[0m┃\u001b[1m \u001b[0m\u001b[1mOutput Shape               \u001b[0m\u001b[1m \u001b[0m┃\u001b[1m \u001b[0m\u001b[1m        Param #\u001b[0m\u001b[1m \u001b[0m┃\n",
              "┡━━━━━━━━━━━━━━━━━━━━━━━━━━━━━━━━━━━━━━╇━━━━━━━━━━━━━━━━━━━━━━━━━━━━━╇━━━━━━━━━━━━━━━━━┩\n",
              "│ mobilenetv2_1.00_224 (\u001b[38;5;33mFunctional\u001b[0m)    │ (\u001b[38;5;45mNone\u001b[0m, \u001b[38;5;34m7\u001b[0m, \u001b[38;5;34m7\u001b[0m, \u001b[38;5;34m1280\u001b[0m)          │       \u001b[38;5;34m2,257,984\u001b[0m │\n",
              "├──────────────────────────────────────┼─────────────────────────────┼─────────────────┤\n",
              "│ global_average_pooling2d             │ (\u001b[38;5;45mNone\u001b[0m, \u001b[38;5;34m1280\u001b[0m)                │               \u001b[38;5;34m0\u001b[0m │\n",
              "│ (\u001b[38;5;33mGlobalAveragePooling2D\u001b[0m)             │                             │                 │\n",
              "├──────────────────────────────────────┼─────────────────────────────┼─────────────────┤\n",
              "│ dense (\u001b[38;5;33mDense\u001b[0m)                        │ (\u001b[38;5;45mNone\u001b[0m, \u001b[38;5;34m128\u001b[0m)                 │         \u001b[38;5;34m163,968\u001b[0m │\n",
              "├──────────────────────────────────────┼─────────────────────────────┼─────────────────┤\n",
              "│ dropout (\u001b[38;5;33mDropout\u001b[0m)                    │ (\u001b[38;5;45mNone\u001b[0m, \u001b[38;5;34m128\u001b[0m)                 │               \u001b[38;5;34m0\u001b[0m │\n",
              "├──────────────────────────────────────┼─────────────────────────────┼─────────────────┤\n",
              "│ dense_1 (\u001b[38;5;33mDense\u001b[0m)                      │ (\u001b[38;5;45mNone\u001b[0m, \u001b[38;5;34m3\u001b[0m)                   │             \u001b[38;5;34m387\u001b[0m │\n",
              "└──────────────────────────────────────┴─────────────────────────────┴─────────────────┘\n"
            ],
            "text/html": [
              "<pre style=\"white-space:pre;overflow-x:auto;line-height:normal;font-family:Menlo,'DejaVu Sans Mono',consolas,'Courier New',monospace\">┏━━━━━━━━━━━━━━━━━━━━━━━━━━━━━━━━━━━━━━┳━━━━━━━━━━━━━━━━━━━━━━━━━━━━━┳━━━━━━━━━━━━━━━━━┓\n",
              "┃<span style=\"font-weight: bold\"> Layer (type)                         </span>┃<span style=\"font-weight: bold\"> Output Shape                </span>┃<span style=\"font-weight: bold\">         Param # </span>┃\n",
              "┡━━━━━━━━━━━━━━━━━━━━━━━━━━━━━━━━━━━━━━╇━━━━━━━━━━━━━━━━━━━━━━━━━━━━━╇━━━━━━━━━━━━━━━━━┩\n",
              "│ mobilenetv2_1.00_224 (<span style=\"color: #0087ff; text-decoration-color: #0087ff\">Functional</span>)    │ (<span style=\"color: #00d7ff; text-decoration-color: #00d7ff\">None</span>, <span style=\"color: #00af00; text-decoration-color: #00af00\">7</span>, <span style=\"color: #00af00; text-decoration-color: #00af00\">7</span>, <span style=\"color: #00af00; text-decoration-color: #00af00\">1280</span>)          │       <span style=\"color: #00af00; text-decoration-color: #00af00\">2,257,984</span> │\n",
              "├──────────────────────────────────────┼─────────────────────────────┼─────────────────┤\n",
              "│ global_average_pooling2d             │ (<span style=\"color: #00d7ff; text-decoration-color: #00d7ff\">None</span>, <span style=\"color: #00af00; text-decoration-color: #00af00\">1280</span>)                │               <span style=\"color: #00af00; text-decoration-color: #00af00\">0</span> │\n",
              "│ (<span style=\"color: #0087ff; text-decoration-color: #0087ff\">GlobalAveragePooling2D</span>)             │                             │                 │\n",
              "├──────────────────────────────────────┼─────────────────────────────┼─────────────────┤\n",
              "│ dense (<span style=\"color: #0087ff; text-decoration-color: #0087ff\">Dense</span>)                        │ (<span style=\"color: #00d7ff; text-decoration-color: #00d7ff\">None</span>, <span style=\"color: #00af00; text-decoration-color: #00af00\">128</span>)                 │         <span style=\"color: #00af00; text-decoration-color: #00af00\">163,968</span> │\n",
              "├──────────────────────────────────────┼─────────────────────────────┼─────────────────┤\n",
              "│ dropout (<span style=\"color: #0087ff; text-decoration-color: #0087ff\">Dropout</span>)                    │ (<span style=\"color: #00d7ff; text-decoration-color: #00d7ff\">None</span>, <span style=\"color: #00af00; text-decoration-color: #00af00\">128</span>)                 │               <span style=\"color: #00af00; text-decoration-color: #00af00\">0</span> │\n",
              "├──────────────────────────────────────┼─────────────────────────────┼─────────────────┤\n",
              "│ dense_1 (<span style=\"color: #0087ff; text-decoration-color: #0087ff\">Dense</span>)                      │ (<span style=\"color: #00d7ff; text-decoration-color: #00d7ff\">None</span>, <span style=\"color: #00af00; text-decoration-color: #00af00\">3</span>)                   │             <span style=\"color: #00af00; text-decoration-color: #00af00\">387</span> │\n",
              "└──────────────────────────────────────┴─────────────────────────────┴─────────────────┘\n",
              "</pre>\n"
            ]
          },
          "metadata": {}
        },
        {
          "output_type": "display_data",
          "data": {
            "text/plain": [
              "\u001b[1m Total params: \u001b[0m\u001b[38;5;34m2,422,339\u001b[0m (9.24 MB)\n"
            ],
            "text/html": [
              "<pre style=\"white-space:pre;overflow-x:auto;line-height:normal;font-family:Menlo,'DejaVu Sans Mono',consolas,'Courier New',monospace\"><span style=\"font-weight: bold\"> Total params: </span><span style=\"color: #00af00; text-decoration-color: #00af00\">2,422,339</span> (9.24 MB)\n",
              "</pre>\n"
            ]
          },
          "metadata": {}
        },
        {
          "output_type": "display_data",
          "data": {
            "text/plain": [
              "\u001b[1m Trainable params: \u001b[0m\u001b[38;5;34m164,355\u001b[0m (642.01 KB)\n"
            ],
            "text/html": [
              "<pre style=\"white-space:pre;overflow-x:auto;line-height:normal;font-family:Menlo,'DejaVu Sans Mono',consolas,'Courier New',monospace\"><span style=\"font-weight: bold\"> Trainable params: </span><span style=\"color: #00af00; text-decoration-color: #00af00\">164,355</span> (642.01 KB)\n",
              "</pre>\n"
            ]
          },
          "metadata": {}
        },
        {
          "output_type": "display_data",
          "data": {
            "text/plain": [
              "\u001b[1m Non-trainable params: \u001b[0m\u001b[38;5;34m2,257,984\u001b[0m (8.61 MB)\n"
            ],
            "text/html": [
              "<pre style=\"white-space:pre;overflow-x:auto;line-height:normal;font-family:Menlo,'DejaVu Sans Mono',consolas,'Courier New',monospace\"><span style=\"font-weight: bold\"> Non-trainable params: </span><span style=\"color: #00af00; text-decoration-color: #00af00\">2,257,984</span> (8.61 MB)\n",
              "</pre>\n"
            ]
          },
          "metadata": {}
        }
      ]
    },
    {
      "cell_type": "code",
      "source": [
        "# 定义回调\n",
        "callbacks = [\n",
        "    tf.keras.callbacks.EarlyStopping(patience=5, restore_best_weights=True),\n",
        "    tf.keras.callbacks.ModelCheckpoint('best_model.keras', save_best_only=True)\n",
        "]\n",
        "\n",
        "# 模型训练\n",
        "history = model.fit(\n",
        "    train_generator,\n",
        "    validation_data=val_generator,\n",
        "    epochs=20,\n",
        "    callbacks=callbacks\n",
        ")\n"
      ],
      "metadata": {
        "colab": {
          "base_uri": "https://localhost:8080/"
        },
        "id": "CVWvNMXaJ77M",
        "outputId": "c5c81f09-5136-4a8d-c38d-c8162c7061fb"
      },
      "execution_count": 16,
      "outputs": [
        {
          "output_type": "stream",
          "name": "stdout",
          "text": [
            "Epoch 1/20\n"
          ]
        },
        {
          "output_type": "stream",
          "name": "stderr",
          "text": [
            "/usr/local/lib/python3.10/dist-packages/keras/src/trainers/data_adapters/py_dataset_adapter.py:122: UserWarning: Your `PyDataset` class should call `super().__init__(**kwargs)` in its constructor. `**kwargs` can include `workers`, `use_multiprocessing`, `max_queue_size`. Do not pass these arguments to `fit()`, as they will be ignored.\n",
            "  self._warn_if_super_not_called()\n"
          ]
        },
        {
          "output_type": "stream",
          "name": "stdout",
          "text": [
            "\u001b[1m7/7\u001b[0m \u001b[32m━━━━━━━━━━━━━━━━━━━━\u001b[0m\u001b[37m\u001b[0m \u001b[1m101s\u001b[0m 7s/step - accuracy: 0.5283 - loss: 1.0966 - val_accuracy: 0.9649 - val_loss: 0.2101\n",
            "Epoch 2/20\n",
            "\u001b[1m7/7\u001b[0m \u001b[32m━━━━━━━━━━━━━━━━━━━━\u001b[0m\u001b[37m\u001b[0m \u001b[1m72s\u001b[0m 4s/step - accuracy: 0.9336 - loss: 0.2331 - val_accuracy: 0.9649 - val_loss: 0.1576\n",
            "Epoch 3/20\n",
            "\u001b[1m7/7\u001b[0m \u001b[32m━━━━━━━━━━━━━━━━━━━━\u001b[0m\u001b[37m\u001b[0m \u001b[1m64s\u001b[0m 3s/step - accuracy: 0.9697 - loss: 0.1011 - val_accuracy: 0.9649 - val_loss: 0.1580\n",
            "Epoch 4/20\n",
            "\u001b[1m7/7\u001b[0m \u001b[32m━━━━━━━━━━━━━━━━━━━━\u001b[0m\u001b[37m\u001b[0m \u001b[1m92s\u001b[0m 3s/step - accuracy: 0.9803 - loss: 0.0666 - val_accuracy: 0.9474 - val_loss: 0.1755\n",
            "Epoch 5/20\n",
            "\u001b[1m7/7\u001b[0m \u001b[32m━━━━━━━━━━━━━━━━━━━━\u001b[0m\u001b[37m\u001b[0m \u001b[1m57s\u001b[0m 2s/step - accuracy: 0.9906 - loss: 0.0484 - val_accuracy: 0.9474 - val_loss: 0.1747\n",
            "Epoch 6/20\n",
            "\u001b[1m7/7\u001b[0m \u001b[32m━━━━━━━━━━━━━━━━━━━━\u001b[0m\u001b[37m\u001b[0m \u001b[1m89s\u001b[0m 3s/step - accuracy: 0.9834 - loss: 0.0589 - val_accuracy: 0.9649 - val_loss: 0.1617\n",
            "Epoch 7/20\n",
            "\u001b[1m7/7\u001b[0m \u001b[32m━━━━━━━━━━━━━━━━━━━━\u001b[0m\u001b[37m\u001b[0m \u001b[1m77s\u001b[0m 2s/step - accuracy: 0.9911 - loss: 0.0304 - val_accuracy: 0.9649 - val_loss: 0.1574\n",
            "Epoch 8/20\n",
            "\u001b[1m7/7\u001b[0m \u001b[32m━━━━━━━━━━━━━━━━━━━━\u001b[0m\u001b[37m\u001b[0m \u001b[1m63s\u001b[0m 2s/step - accuracy: 0.9773 - loss: 0.0560 - val_accuracy: 0.9649 - val_loss: 0.1556\n",
            "Epoch 9/20\n",
            "\u001b[1m7/7\u001b[0m \u001b[32m━━━━━━━━━━━━━━━━━━━━\u001b[0m\u001b[37m\u001b[0m \u001b[1m67s\u001b[0m 3s/step - accuracy: 0.9811 - loss: 0.0495 - val_accuracy: 0.9649 - val_loss: 0.1594\n",
            "Epoch 10/20\n",
            "\u001b[1m7/7\u001b[0m \u001b[32m━━━━━━━━━━━━━━━━━━━━\u001b[0m\u001b[37m\u001b[0m \u001b[1m62s\u001b[0m 2s/step - accuracy: 0.9867 - loss: 0.0407 - val_accuracy: 0.9474 - val_loss: 0.1616\n",
            "Epoch 11/20\n",
            "\u001b[1m7/7\u001b[0m \u001b[32m━━━━━━━━━━━━━━━━━━━━\u001b[0m\u001b[37m\u001b[0m \u001b[1m91s\u001b[0m 3s/step - accuracy: 0.9889 - loss: 0.0399 - val_accuracy: 0.9474 - val_loss: 0.1784\n",
            "Epoch 12/20\n",
            "\u001b[1m7/7\u001b[0m \u001b[32m━━━━━━━━━━━━━━━━━━━━\u001b[0m\u001b[37m\u001b[0m \u001b[1m71s\u001b[0m 3s/step - accuracy: 0.9924 - loss: 0.0451 - val_accuracy: 0.9649 - val_loss: 0.1692\n",
            "Epoch 13/20\n",
            "\u001b[1m7/7\u001b[0m \u001b[32m━━━━━━━━━━━━━━━━━━━━\u001b[0m\u001b[37m\u001b[0m \u001b[1m58s\u001b[0m 2s/step - accuracy: 0.9857 - loss: 0.0307 - val_accuracy: 0.9474 - val_loss: 0.1984\n"
          ]
        }
      ]
    },
    {
      "cell_type": "code",
      "source": [
        "# 加载最佳模型\n",
        "model = tf.keras.models.load_model('best_model.keras')\n",
        "\n",
        "# 在验证集上评估\n",
        "val_loss, val_accuracy = model.evaluate(val_generator)\n",
        "print(f\"val_accuracy: {val_accuracy:.2f}\")\n"
      ],
      "metadata": {
        "colab": {
          "base_uri": "https://localhost:8080/"
        },
        "id": "kYn8RO_9KOEu",
        "outputId": "4202408c-4900-4434-9dd4-88638c2d96de"
      },
      "execution_count": 25,
      "outputs": [
        {
          "output_type": "stream",
          "name": "stdout",
          "text": [
            "\u001b[1m2/2\u001b[0m \u001b[32m━━━━━━━━━━━━━━━━━━━━\u001b[0m\u001b[37m\u001b[0m \u001b[1m17s\u001b[0m 4s/step - accuracy: 0.9662 - loss: 0.1329\n",
            "val_accuracy: 0.96\n"
          ]
        }
      ]
    },
    {
      "cell_type": "code",
      "source": [
        "import matplotlib.pyplot as plt\n",
        "\n",
        "# 绘制训练准确率和损失\n",
        "plt.figure(figsize=(12, 4))\n",
        "\n",
        "plt.subplot(1, 2, 1)\n",
        "plt.plot(history.history['accuracy'], label='accuracy')\n",
        "plt.plot(history.history['val_accuracy'], label='val_accuracy')\n",
        "plt.legend()\n",
        "plt.title('accuracy & val_accuracy')\n",
        "\n",
        "plt.subplot(1, 2, 2)\n",
        "plt.plot(history.history['loss'], label='loss')\n",
        "plt.plot(history.history['val_loss'], label='val_loss')\n",
        "plt.legend()\n",
        "plt.title('loss & val_loss')\n",
        "\n",
        "plt.show()\n"
      ],
      "metadata": {
        "colab": {
          "base_uri": "https://localhost:8080/",
          "height": 391
        },
        "id": "mvDLgF08KTl5",
        "outputId": "165d1f8b-5b75-4f7a-c2ff-b44389f25e1e"
      },
      "execution_count": 24,
      "outputs": [
        {
          "output_type": "display_data",
          "data": {
            "text/plain": [
              "<Figure size 1200x400 with 2 Axes>"
            ],
            "image/png": "[encoded data removed]"
          },
          "metadata": {}
        }
      ]
    },
    {
      "cell_type": "markdown",
      "source": [
        "## 3. test model by the test data"
      ],
      "metadata": {
        "id": "H6Wj3RxPKygb"
      }
    },
    {
      "cell_type": "code",
      "source": [
        "from tensorflow.keras.preprocessing.image import ImageDataGenerator\n",
        "\n",
        "# 测试数据路径\n",
        "test_dir = '/content/animal_image_dataset/Animal Image Dataset-Cats, Dogs, and Foxes/test'\n",
        "\n",
        "# 图像预处理（与训练和验证一致）\n",
        "test_datagen = ImageDataGenerator(rescale=1.0 / 255)\n",
        "\n",
        "# 测试集生成器\n",
        "test_generator = test_datagen.flow_from_directory(\n",
        "    test_dir,\n",
        "    target_size=(224, 224),  # 输入尺寸\n",
        "    batch_size=32,          # 批量大小\n",
        "    class_mode='categorical',\n",
        "    shuffle=False           # 确保预测结果与文件名顺序一致\n",
        ")\n"
      ],
      "metadata": {
        "colab": {
          "base_uri": "https://localhost:8080/"
        },
        "id": "EiFe1vE5NOdk",
        "outputId": "d21f1d37-9415-4ddd-bd66-bfe20c3673b3"
      },
      "execution_count": 26,
      "outputs": [
        {
          "output_type": "stream",
          "name": "stdout",
          "text": [
            "Found 33 images belonging to 3 classes.\n"
          ]
        }
      ]
    },
    {
      "cell_type": "code",
      "source": [
        "import numpy as np\n",
        "\n",
        "# 加载保存的模型\n",
        "model = tf.keras.models.load_model('best_model.keras')\n",
        "\n",
        "# 获取真实标签\n",
        "true_labels = test_generator.classes\n",
        "class_indices = test_generator.class_indices\n",
        "classes = list(class_indices.keys())\n",
        "\n",
        "# 模型预测\n",
        "predictions = model.predict(test_generator, verbose=1)\n",
        "predicted_classes = np.argmax(predictions, axis=1)\n",
        "\n",
        "# 计算准确率\n",
        "accuracy = np.mean(predicted_classes == true_labels)\n",
        "print(f\"test_accuracy: {accuracy:.2%}\")\n"
      ],
      "metadata": {
        "colab": {
          "base_uri": "https://localhost:8080/"
        },
        "id": "BJiLtc3oNOZW",
        "outputId": "c6ede832-6a47-42a8-9122-2bc74d6d3949"
      },
      "execution_count": 27,
      "outputs": [
        {
          "output_type": "stream",
          "name": "stdout",
          "text": [
            "\u001b[1m2/2\u001b[0m \u001b[32m━━━━━━━━━━━━━━━━━━━━\u001b[0m\u001b[37m\u001b[0m \u001b[1m13s\u001b[0m 2s/step\n",
            "test_accuracy: 90.91%\n"
          ]
        }
      ]
    },
    {
      "cell_type": "code",
      "source": [
        "# 获取文件名\n",
        "filenames = test_generator.filenames\n",
        "\n",
        "# 打印文件名、真实类别和预测类别\n",
        "for i in range(len(filenames)):\n",
        "    file_name = filenames[i]\n",
        "    true_class = classes[true_labels[i]]\n",
        "    predicted_class = classes[predicted_classes[i]]\n",
        "    print(f\"picture: {file_name}, true_label: {true_class}, predicted_class: {predicted_class}\")\n"
      ],
      "metadata": {
        "colab": {
          "base_uri": "https://localhost:8080/"
        },
        "id": "PKaAQE-VNOW6",
        "outputId": "4a712d62-97d4-4dcf-94b6-0b52fedce62b"
      },
      "execution_count": 28,
      "outputs": [
        {
          "output_type": "stream",
          "name": "stdout",
          "text": [
            "picture: cat/cat002.jpg, true_label: cat, predicted_class: cat\n",
            "picture: cat/cat017.jpeg, true_label: cat, predicted_class: fox\n",
            "picture: cat/cat018.jpeg, true_label: cat, predicted_class: cat\n",
            "picture: cat/cat034.jpg, true_label: cat, predicted_class: cat\n",
            "picture: cat/cat037.jpg, true_label: cat, predicted_class: cat\n",
            "picture: cat/cat044.jpg, true_label: cat, predicted_class: cat\n",
            "picture: cat/cat052.jpg, true_label: cat, predicted_class: cat\n",
            "picture: cat/cat062.jpg, true_label: cat, predicted_class: cat\n",
            "picture: cat/cat072.jpg, true_label: cat, predicted_class: cat\n",
            "picture: cat/cat085.jpg, true_label: cat, predicted_class: cat\n",
            "picture: cat/cat095.jpg, true_label: cat, predicted_class: cat\n",
            "picture: dog/dog002.jpeg, true_label: dog, predicted_class: dog\n",
            "picture: dog/dog007.jpeg, true_label: dog, predicted_class: fox\n",
            "picture: dog/dog017.jpg, true_label: dog, predicted_class: dog\n",
            "picture: dog/dog022.jpg, true_label: dog, predicted_class: dog\n",
            "picture: dog/dog023.jpg, true_label: dog, predicted_class: dog\n",
            "picture: dog/dog042.jpg, true_label: dog, predicted_class: dog\n",
            "picture: dog/dog045.jpg, true_label: dog, predicted_class: dog\n",
            "picture: dog/dog048.jpg, true_label: dog, predicted_class: dog\n",
            "picture: dog/dog083.jpg, true_label: dog, predicted_class: dog\n",
            "picture: dog/dog089.jpg, true_label: dog, predicted_class: dog\n",
            "picture: dog/dog097.jpg, true_label: dog, predicted_class: fox\n",
            "picture: fox/fox009.jpeg, true_label: fox, predicted_class: fox\n",
            "picture: fox/fox010.jpeg, true_label: fox, predicted_class: fox\n",
            "picture: fox/fox015.jpeg, true_label: fox, predicted_class: fox\n",
            "picture: fox/fox032.jpg, true_label: fox, predicted_class: fox\n",
            "picture: fox/fox046.jpg, true_label: fox, predicted_class: fox\n",
            "picture: fox/fox056.jpg, true_label: fox, predicted_class: fox\n",
            "picture: fox/fox065.jpg, true_label: fox, predicted_class: fox\n",
            "picture: fox/fox071.jpg, true_label: fox, predicted_class: fox\n",
            "picture: fox/fox078.jpg, true_label: fox, predicted_class: fox\n",
            "picture: fox/fox087.jpg, true_label: fox, predicted_class: fox\n",
            "picture: fox/fox096.jpg, true_label: fox, predicted_class: fox\n"
          ]
        }
      ]
    }
  ]
}