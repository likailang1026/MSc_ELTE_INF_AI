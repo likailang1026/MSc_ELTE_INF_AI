{
  "cells": [
    {
      "cell_type": "markdown",
      "metadata": {
        "id": "dtsK36vTXo-y"
      },
      "source": [
        "<img src=\"https://github.com/Fortuz/edu_Adaptive/blob/main/practices/assets/logo.png?raw=1\" width=\"800\">"
      ]
    },
    {
      "cell_type": "markdown",
      "metadata": {
        "id": "_JY3nuR8Xo-z"
      },
      "source": [
        "Made by **Balázs Nagy** and **Márk Domokos**\n",
        "\n",
        "[<img src=\"https://github.com/Fortuz/edu_Adaptive/blob/main/practices/assets/open_button.png?raw=1\">](https://colab.research.google.com/github/Fortuz/edu_Adaptive/blob/main/practices/L02%20-%20Multivariate%20Linear%20Regression_solved.ipynb)\n",
        "\n",
        "# Labor 02: Multivariate linear regression\n",
        "\n",
        "### Property prices:\n",
        "\n",
        "In this exercise, we will extend our univariate linear regression model introduced in lab L01 to the multivariate linear regression case to estimate house prices.\n",
        "\n",
        "Suppose we want to sell a house, but we want to know the real value of the house so that we do not lose money on the sale. One possible way to do this is to collect data and then estimate the real estate market price of the house by building a model based on the data. Our data will be the area of the property ($m^2$) and the number of rooms (units), and the price ($) determined at the time of sale."
      ]
    },
    {
      "cell_type": "markdown",
      "metadata": {
        "id": "UWyEzuv4Xo-0"
      },
      "source": [
        "### 1: Import the packages\n",
        "We will need:\n",
        "- NumPy for array management\n",
        "- MatPlotLib pyplot package for visualization\n",
        "- Pandas for data reading"
      ]
    },
    {
      "cell_type": "code",
      "execution_count": 1,
      "metadata": {
        "id": "Y5rnAxWRXo-0"
      },
      "outputs": [],
      "source": [
        "import numpy as np\n",
        "import matplotlib.pyplot as plt\n",
        "import pandas as pd"
      ]
    },
    {
      "cell_type": "markdown",
      "metadata": {
        "id": "D1BXOaKbXo-1"
      },
      "source": [
        "### 2: Load data"
      ]
    },
    {
      "cell_type": "markdown",
      "metadata": {
        "id": "uGve3TqSXo-1"
      },
      "source": [
        "The data will be loaded from a publicly available file. An alternative solution would be to upload the data file directly to the google colab file system."
      ]
    },
    {
      "cell_type": "code",
      "execution_count": 2,
      "metadata": {
        "id": "mvsTxlwBXo-1",
        "outputId": "865838aa-4166-4854-ca20-f9da569c15cb",
        "colab": {
          "base_uri": "https://localhost:8080/"
        }
      },
      "outputs": [
        {
          "output_type": "stream",
          "name": "stdout",
          "text": [
            "--2024-12-10 21:05:05--  https://github.com/Fortuz/edu_Adaptive/raw/main/practices/assets/Lab02/Lab2data.txt\n",
            "Resolving github.com (github.com)... 140.82.114.3\n",
            "Connecting to github.com (github.com)|140.82.114.3|:443... connected.\n",
            "HTTP request sent, awaiting response... 302 Found\n",
            "Location: https://raw.githubusercontent.com/Fortuz/edu_Adaptive/main/practices/assets/Lab02/Lab2data.txt [following]\n",
            "--2024-12-10 21:05:06--  https://raw.githubusercontent.com/Fortuz/edu_Adaptive/main/practices/assets/Lab02/Lab2data.txt\n",
            "Resolving raw.githubusercontent.com (raw.githubusercontent.com)... 185.199.108.133, 185.199.111.133, 185.199.109.133, ...\n",
            "Connecting to raw.githubusercontent.com (raw.githubusercontent.com)|185.199.108.133|:443... connected.\n",
            "HTTP request sent, awaiting response... 200 OK\n",
            "Length: 657 [text/plain]\n",
            "Saving to: ‘Lab2data.txt’\n",
            "\n",
            "Lab2data.txt        100%[===================>]     657  --.-KB/s    in 0s      \n",
            "\n",
            "2024-12-10 21:05:06 (27.2 MB/s) - ‘Lab2data.txt’ saved [657/657]\n",
            "\n"
          ]
        }
      ],
      "source": [
        "!wget https://github.com/Fortuz/edu_Adaptive/raw/main/practices/assets/Lab02/Lab2data.txt"
      ]
    },
    {
      "cell_type": "markdown",
      "metadata": {
        "id": "O6cfxrAvXo-1"
      },
      "source": [
        "Load in the data! Use the Pandas package to do this and then convert it into a numpy array. Visualize the data."
      ]
    },
    {
      "cell_type": "code",
      "execution_count": 3,
      "metadata": {
        "id": "TcRcmKb0Xo-2",
        "outputId": "5b8c110b-5fbe-4930-903a-f041b4cc150b",
        "colab": {
          "base_uri": "https://localhost:8080/"
        }
      },
      "outputs": [
        {
          "output_type": "stream",
          "name": "stdout",
          "text": [
            "X: (47, 2)\n",
            "Y: (47, 1)\n",
            "Number of samples:  47\n",
            "[[2104    3]\n",
            " [1600    3]\n",
            " [2400    3]\n",
            " [1416    2]\n",
            " [3000    4]\n",
            " [1985    4]\n",
            " [1534    3]\n",
            " [1427    3]\n",
            " [1380    3]\n",
            " [1494    3]\n",
            " [1940    4]\n",
            " [2000    3]\n",
            " [1890    3]\n",
            " [4478    5]\n",
            " [1268    3]\n",
            " [2300    4]\n",
            " [1320    2]\n",
            " [1236    3]\n",
            " [2609    4]\n",
            " [3031    4]\n",
            " [1767    3]\n",
            " [1888    2]\n",
            " [1604    3]\n",
            " [1962    4]\n",
            " [3890    3]\n",
            " [1100    3]\n",
            " [1458    3]\n",
            " [2526    3]\n",
            " [2200    3]\n",
            " [2637    3]\n",
            " [1839    2]\n",
            " [1000    1]\n",
            " [2040    4]\n",
            " [3137    3]\n",
            " [1811    4]\n",
            " [1437    3]\n",
            " [1239    3]\n",
            " [2132    4]\n",
            " [4215    4]\n",
            " [2162    4]\n",
            " [1664    2]\n",
            " [2238    3]\n",
            " [2567    4]\n",
            " [1200    3]\n",
            " [ 852    2]\n",
            " [1852    4]\n",
            " [1203    3]]\n"
          ]
        }
      ],
      "source": [
        "data = pd.read_csv('Lab2data.txt',header = None).to_numpy()\n",
        "X = data[:,0:2]                                                # sort X\n",
        "m = X.shape[0]                                                 # number of samples\n",
        "Y = data[:,2].reshape(m,1)                                     # sort Y\n",
        "\n",
        "print('X:',X.shape)                                            # check the shapes\n",
        "print('Y:',Y.shape)\n",
        "print('Number of samples: ',m)\n",
        "print(X)"
      ]
    },
    {
      "cell_type": "markdown",
      "metadata": {
        "id": "5NzmowhEXo-2"
      },
      "source": [
        "### 3: Normalising values (Feature scaling & Mean normalization)\n",
        "\n",
        "The features of the data points may be in different magnitudes. In our case, it is easy to see that there is at least an order of magnitude difference between the area of the property and the number of rooms. In such cases, it is worth normalising our values so that they fall within the same order of magnitude and all input variables fall within the range of [-1..1] or [0..1] interval. This operation will promote convergence, as there will be no dominant variable present to suppress the effect of other variables. <br>\n",
        "For this we will use the following relationship:\n",
        "\n",
        "$ x = \\frac{x - mean(x)}{std(x)} $\n",
        "\n",
        ", with other words the mean of the samples is subtracted from a given sample (mean normalization) and divided by the standard deviation of the samples (feature scaling).\n",
        "\n",
        "Graphical meaning: around the origin makes it easier to find the line that covers our data according to our hypothesis. It is therefore useful to trasform our data into this region."
      ]
    },
    {
      "cell_type": "markdown",
      "metadata": {
        "id": "Wft7p9JjXo-2"
      },
      "source": [
        "<img src=\"https://github.com/Fortuz/edu_Adaptive/blob/main/practices/assets/Lab02/Pics/L02_Scaling.png?raw=1\" width=\"350\">"
      ]
    },
    {
      "cell_type": "markdown",
      "metadata": {
        "id": "HRXdPHLgXo-2"
      },
      "source": [
        "Create the normalizing function!"
      ]
    },
    {
      "cell_type": "code",
      "execution_count": 4,
      "metadata": {
        "id": "pEY_a0yxXo-2",
        "outputId": "7c35fcd7-1a23-4f15-c1f5-8ab698b8b3e8",
        "colab": {
          "base_uri": "https://localhost:8080/"
        }
      },
      "outputs": [
        {
          "output_type": "stream",
          "name": "stdout",
          "text": [
            "Normalizing X vector ...\n",
            "Normalization done.\n"
          ]
        }
      ],
      "source": [
        "def featureNormalize(X):\n",
        "################### CODE HERE ########################\n",
        "# Calculate the normalized X vector.\n",
        "# To do so calculate the mean and standard deviation of the input data first.\n",
        "\n",
        "    avg = np.mean(X, axis=0) # axis=0 calculates the column wise mean giving a (1,2) dimension vector\n",
        "    sigma = np.std(X, axis=0) # axis=0 calculates the column wise standard deviation giving a (1,2) dimension vector\n",
        "\n",
        "    X_norm = (X - avg) / sigma # this will give a normalized value of (m,2) dimension array\n",
        "\n",
        "\n",
        "######################################################\n",
        "    return X_norm, avg, sigma                            # return the formula based result\n",
        "\n",
        "print('Normalizing X vector ...')\n",
        "X_norm,avg,sigma = featureNormalize(X)                   # normalization\n",
        "X_norm=np.column_stack((np.ones(m),X_norm))              # add bias\n",
        "print('Normalization done.')"
      ]
    },
    {
      "cell_type": "markdown",
      "metadata": {
        "id": "-tXjjFN2Xo-2"
      },
      "source": [
        "After normalization, the BIAS is added to the input X matrix."
      ]
    },
    {
      "cell_type": "markdown",
      "metadata": {
        "id": "92I_Qix1Xo-2"
      },
      "source": [
        "### 4: Gradient based method\n",
        "Following the example of the previous exercise, we create the gradient method in multivariable form! Our data structure is as follows.\n",
        "\n",
        "<img src=\"https://github.com/Fortuz/edu_Adaptive/blob/main/practices/assets/Lab02/Pics/L02_Matrixok.png?raw=1\" width=\"500\">\n",
        "\n",
        "Here we have more features so the input vector is bigger, but everything will work as previously."
      ]
    },
    {
      "cell_type": "markdown",
      "metadata": {
        "id": "8WdxyiEQXo-3"
      },
      "source": [
        "The hypothesis function for the multivariate case can be written as follows:\n",
        "\n",
        "$ h_{w}(x)=w_0x_0+w_1x_1+w_2x_2+ ... +w_nx_n $ <br>\n",
        "\n",
        "And with matrix operations:"
      ]
    },
    {
      "cell_type": "markdown",
      "metadata": {
        "id": "xmyHW_fzXo-3"
      },
      "source": [
        "<img src=\"https://github.com/Fortuz/edu_Adaptive/blob/main/practices/assets/Lab02/Pics/L02_XW.png?raw=1\" width=\"550\">"
      ]
    },
    {
      "cell_type": "markdown",
      "metadata": {
        "id": "k1IHbxwZXo-3"
      },
      "source": [
        "Formula of the cost function: <br>\n",
        "\n",
        "$ C(W)=C(w_0,w_1,...,w_n)=\\frac{1}{2m}\\sum_{i=1}^{m}(h_w(x^i)-y^i)^2 $\n",
        "\n",
        "Tip: When programming, take advantage of vector multiplication.\n",
        "\n",
        "<img src=\"https://github.com/Fortuz/edu_Adaptive/blob/main/practices/assets/Lab02/Pics/L02_Sum.png?raw=1\" width=\"550\">\n",
        "\n",
        "General weight update formula of the gradient method:\n",
        "\n",
        "$ \\color{red}{(j=0...n)}\\hspace{7mm} w_j:=w_j-\\mu\\frac{1}{2m}\\sum_{i=1}^{m}((h_w(x^i)-y^i)\\cdot x_j^i) $\n",
        "\n",
        "$\\color{red}{Pay\\ attention\\ to\\ the\\ simultaneous\\ update!}$\n",
        "\n",
        "Current matrix values are used to calculate the new updated matrix values. If a calculated value stored back in the matrix and this already updated value is used to calculate the next updated value in the same matrix it will result in a faulty calculation."
      ]
    },
    {
      "cell_type": "code",
      "execution_count": 5,
      "metadata": {
        "id": "uFGeRyLUXo-3"
      },
      "outputs": [],
      "source": [
        "# Cost function\n",
        "def computeCostMulti(X,Y,W):\n",
        "    C=0   # To make sure there is nothing in this variable\n",
        "\n",
        "    ################### CODE HERE ########################\n",
        "    # Implement the cost function\n",
        "    m = Y.shape[0] # number of training examples\n",
        "\n",
        "    # Hypothesis function: h(x) = X * W\n",
        "    h = np.dot(X, W) # Matrix multiplication of X and W (X: (m,3), W: (3,1), h: (m,1))\n",
        "\n",
        "    # Cost function: C(W) = (1 / (2 * m)) * sum((h(x) - y)^2)\n",
        "    C = (1 / (2 * m)) * np.sum(np.square(h - Y))\n",
        "\n",
        "    #####################################################\n",
        "\n",
        "    return C"
      ]
    },
    {
      "cell_type": "code",
      "execution_count": 8,
      "metadata": {
        "id": "28SpJ5CPXo-3"
      },
      "outputs": [],
      "source": [
        "# Gradient descent Method\n",
        "def gradientDescentMulti(X,Y,W,lr,epochs):\n",
        "\n",
        "    ################### CODE HERE ########################\n",
        "    # Implement the Gradient Descent algorithm for multiple variables\n",
        "\n",
        "    C_history = np.zeros(epochs) # Initialize C_history as a numpy array with size epochs\n",
        "\n",
        "    for i in range(epochs):\n",
        "        # Hypothesis function: h(x) = X * W\n",
        "        h = np.dot(X, W) # (m,3) * (3,1) = (m,1)\n",
        "\n",
        "        # Gradient calculation: (1/m) * X' * (h(x) - y)\n",
        "        gradient = (1/m) * np.dot(X.T, (h - Y)) # (3,m) * (m,1) = (3,1)\n",
        "\n",
        "        # Weight update: W = W - lr * gradient\n",
        "        W = W - lr * gradient # (3,1) - scalar * (3,1) = (3,1)\n",
        "\n",
        "        # Cost calculation for current iteration\n",
        "        C_history[i] = computeCostMulti(X, Y, W)\n",
        "\n",
        "\n",
        "    #####################################################\n",
        "\n",
        "    return W, C_history"
      ]
    },
    {
      "cell_type": "markdown",
      "metadata": {
        "id": "qr0IxPRoXo-3"
      },
      "source": [
        "Let's try out the Gradient Descent algorithm with multiple variables."
      ]
    },
    {
      "cell_type": "code",
      "execution_count": 9,
      "metadata": {
        "id": "62pKRkroXo-3",
        "outputId": "ccca8092-2600-4608-e96e-eea3b6d4681a",
        "colab": {
          "base_uri": "https://localhost:8080/"
        }
      },
      "outputs": [
        {
          "output_type": "stream",
          "name": "stdout",
          "text": [
            "Running gradient descent ...\n",
            "Weights expected from gradient descent (approx.):\n",
            " [[340372.05039403]\n",
            " [109434.51046856]\n",
            " [ -5454.97874429 ]]\n",
            "\n",
            "Weights computed from gradient descent:\n",
            " [[340412.65505089]\n",
            " [109427.27281937]\n",
            " [ -6557.83120394]]\n",
            "\n",
            " Something not right. Please modify the function!\n"
          ]
        }
      ],
      "source": [
        "print('Running gradient descent ...')\n",
        "lr = 0.015                                                  # learning rate\n",
        "epochs = 1200                                               # number of epochs\n",
        "W=np.zeros((3,1))                                           # initial weights (0;0;0)\n",
        "W,C_history= gradientDescentMulti(X_norm,Y,W,lr,epochs)     # Use the Gradient Descent Method\n",
        "print('''Weights expected from gradient descent (approx.):\n",
        " [[340372.05039403]\n",
        " [109434.51046856]\n",
        " [ -5454.97874429 ]]\n",
        "''')\n",
        "print('Weights computed from gradient descent:\\n', W)\n",
        "\n",
        "if int(W[0,0]) == 340372 and int(W[1,0]) == 109434 and int(W[2,0]) == -5454:\n",
        "    print(\"\\n The gradientDescentMulti() function is good. You can proceed.\")\n",
        "else:\n",
        "    print(\"\\n Something not right. Please modify the function!\")"
      ]
    },
    {
      "cell_type": "markdown",
      "metadata": {
        "id": "S_S2u0pBXo-3"
      },
      "source": [
        "Check the convergence with the help of a graph."
      ]
    },
    {
      "cell_type": "code",
      "execution_count": 10,
      "metadata": {
        "id": "479rP08jXo-3",
        "outputId": "fe2b51e8-cd9f-403e-a5a7-f1d0df9f6355",
        "colab": {
          "base_uri": "https://localhost:8080/",
          "height": 491
        }
      },
      "outputs": [
        {
          "output_type": "display_data",
          "data": {
            "text/plain": [
              "<Figure size 640x480 with 1 Axes>"
            ],
            "image/png": "[encoded data removed]"
          },
          "metadata": {}
        }
      ],
      "source": [
        "plt.plot(C_history)                                                                 # C_history plot\n",
        "plt.title(\"Gradient descent algorithm's effect through the iterations\",pad= 20)\n",
        "plt.xlabel(\"Iterations\")\n",
        "plt.ylabel(\"Cost function value\")\n",
        "plt.show()"
      ]
    },
    {
      "cell_type": "markdown",
      "metadata": {
        "id": "Y2eoI-MMXo-3"
      },
      "source": [
        "### 5: Prediction\n",
        "Let's estimate the price of a 1650 $m^2$, 3 bedroom property! Watch for the normalization of the data, which is also neccessary here. Use the previously calculated mean and sigma for the normalization."
      ]
    },
    {
      "cell_type": "code",
      "execution_count": 12,
      "metadata": {
        "id": "Ur2gBRKTXo-3"
      },
      "outputs": [],
      "source": [
        "def predict(FEET, BED):\n",
        "\n",
        "    ################### CODE HERE ########################\n",
        "    # Predict the prize of a house given by the size (FEET) and number of bedrooms (BED)\n",
        "    x = np.array([[FEET, BED]]) # Create a feature vector\n",
        "    x_norm = (x - avg) / sigma # Normalize the feature vector\n",
        "    x_norm = np.column_stack((np.ones(x_norm.shape[0]), x_norm)) # Add bias term\n",
        "\n",
        "    price = np.dot(x_norm, W) # Predict the price\n",
        "\n",
        "\n",
        "    #####################################################\n",
        "\n",
        "    return price"
      ]
    },
    {
      "cell_type": "code",
      "execution_count": 13,
      "metadata": {
        "id": "S0F5TVerXo-3",
        "outputId": "65d3f533-1d45-4906-9814-a80be6de2b0d",
        "colab": {
          "base_uri": "https://localhost:8080/"
        }
      },
      "outputs": [
        {
          "output_type": "stream",
          "name": "stdout",
          "text": [
            "Prediction for a 1650 sq-ft / 3 bedroom house:\n",
            "(predicted price should be approx. $293000) 293085.97\n"
          ]
        },
        {
          "output_type": "stream",
          "name": "stderr",
          "text": [
            "<ipython-input-13-f3340e104c64>:4: DeprecationWarning: Conversion of an array with ndim > 0 to a scalar is deprecated, and will error in future. Ensure you extract a single element from your array before performing this operation. (Deprecated NumPy 1.25.)\n",
            "  print('''Prediction for a 1650 sq-ft / 3 bedroom house:\n"
          ]
        }
      ],
      "source": [
        "FEET = 1650\n",
        "BED = 3\n",
        "price = predict(FEET, BED)\n",
        "print('''Prediction for a 1650 sq-ft / 3 bedroom house:\n",
        "(predicted price should be approx. $293000) %.2f''' % price[0])"
      ]
    },
    {
      "cell_type": "markdown",
      "metadata": {
        "id": "q78Ke1M3Xo-4"
      },
      "source": [
        "## In a slightly different way: with high level packages"
      ]
    },
    {
      "cell_type": "code",
      "execution_count": 14,
      "metadata": {
        "id": "wmIpGFEcXo-4",
        "outputId": "490a44cd-bce8-4476-a793-cc1520b51b13",
        "colab": {
          "base_uri": "https://localhost:8080/"
        }
      },
      "outputs": [
        {
          "output_type": "stream",
          "name": "stdout",
          "text": [
            "Prediction for a 1650 sq-ft / 3 bedroom house:\n",
            " 293081.46\n"
          ]
        }
      ],
      "source": [
        "import pandas as pd\n",
        "from sklearn.linear_model import LinearRegression\n",
        "\n",
        "data = pd.read_csv('Lab2data.txt',header = None)\n",
        "\n",
        "X = data.iloc[:, 0:2].values.reshape(-1,2)                              # arrange X\n",
        "Y = data.iloc[:, 2].values.reshape(-1,1)                                # arrange Y\n",
        "\n",
        "lin_reg = LinearRegression()                                            # creation of a linear regression model class\n",
        "lin_reg.fit(X,Y)                                                        # fit based on X,Y\n",
        "\n",
        "pred = lin_reg.predict([[1650,3]])                                      # prediction for a house with 1650 m^2 and 3 bedrooms\n",
        "print('Prediction for a 1650 sq-ft / 3 bedroom house:\\n %.2f' % pred[0,0])"
      ]
    },
    {
      "cell_type": "markdown",
      "metadata": {
        "id": "EIIcEhRfXo-4"
      },
      "source": [
        "<div style=\"text-align: right\">This lab exercise uses elements from Andrew Ng's Machine Learning course.</div>"
      ]
    }
  ],
  "metadata": {
    "kernelspec": {
      "display_name": "Python 3",
      "language": "python",
      "name": "python3"
    },
    "language_info": {
      "codemirror_mode": {
        "name": "ipython",
        "version": 3
      },
      "file_extension": ".py",
      "mimetype": "text/x-python",
      "name": "python",
      "nbconvert_exporter": "python",
      "pygments_lexer": "ipython3",
      "version": "3.9.13"
    },
    "colab": {
      "provenance": []
    }
  },
  "nbformat": 4,
  "nbformat_minor": 0
}