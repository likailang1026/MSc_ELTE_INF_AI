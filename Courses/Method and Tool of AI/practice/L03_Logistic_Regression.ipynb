{
  "cells": [
    {
      "cell_type": "markdown",
      "metadata": {
        "id": "APU8HqAyaCZj"
      },
      "source": [
        "<img src=\"https://github.com/Fortuz/edu_Adaptive/blob/main/practices/assets/logo.png?raw=1\" width=\"800\">"
      ]
    },
    {
      "cell_type": "markdown",
      "metadata": {
        "id": "yo7MdaddaCZk"
      },
      "source": [
        "Made by **Balázs Nagy** and **Márk Domokos**\n",
        "\n",
        "[<img src=\"https://github.com/Fortuz/edu_Adaptive/blob/main/practices/assets/open_button.png?raw=1\">](https://colab.research.google.com/github/Fortuz/edu_Adaptive/blob/main/practices/L03%20-%20Logistic%20Regression_solved.ipynb)\n",
        "\n",
        "# Labor 03: Logistic Regression\n",
        "### University admission:\n",
        "\n",
        "In this exercise, we will use logistic regression to predict the admission of a given student to the university.\n",
        "\n",
        "Suppose that we are university administrators and we want to determine the probability of a given applicant to be admitted successfully based on the results of two admission tests. We have at our disposal the results so far, labelled as to whether the student's application was successful or not.\n",
        "\n",
        "We can use this dataset for our logistic regression."
      ]
    },
    {
      "cell_type": "markdown",
      "metadata": {
        "id": "5FqH9AzDaCZl"
      },
      "source": [
        "### 1: Import the neccessary packages"
      ]
    },
    {
      "cell_type": "code",
      "execution_count": 1,
      "metadata": {
        "id": "acFPw8IQaCZl"
      },
      "outputs": [],
      "source": [
        "import numpy as np\n",
        "import matplotlib.pyplot as plt\n",
        "import pandas as pd"
      ]
    },
    {
      "cell_type": "markdown",
      "metadata": {
        "id": "z4qr9v1IaCZl"
      },
      "source": [
        "### 2: Load the data"
      ]
    },
    {
      "cell_type": "markdown",
      "metadata": {
        "id": "Rc3di-wZaCZl"
      },
      "source": [
        "The data will be loaded from a publicly available file. An alternative solution would be to upload the data file directly to the google colab file system."
      ]
    },
    {
      "cell_type": "code",
      "execution_count": 2,
      "metadata": {
        "id": "WaH4oyIMaCZm",
        "outputId": "48981b99-bb8e-448e-d2bf-dba777f25b5a",
        "colab": {
          "base_uri": "https://localhost:8080/"
        }
      },
      "outputs": [
        {
          "output_type": "stream",
          "name": "stdout",
          "text": [
            "--2024-12-10 21:14:01--  https://github.com/Fortuz/edu_Adaptive/raw/main/practices/assets/Lab03/Lab3data.txt\n",
            "Resolving github.com (github.com)... 140.82.112.4\n",
            "Connecting to github.com (github.com)|140.82.112.4|:443... connected.\n",
            "HTTP request sent, awaiting response... 302 Found\n",
            "Location: https://raw.githubusercontent.com/Fortuz/edu_Adaptive/main/practices/assets/Lab03/Lab3data.txt [following]\n",
            "--2024-12-10 21:14:01--  https://raw.githubusercontent.com/Fortuz/edu_Adaptive/main/practices/assets/Lab03/Lab3data.txt\n",
            "Resolving raw.githubusercontent.com (raw.githubusercontent.com)... 185.199.108.133, 185.199.109.133, 185.199.110.133, ...\n",
            "Connecting to raw.githubusercontent.com (raw.githubusercontent.com)|185.199.108.133|:443... connected.\n",
            "HTTP request sent, awaiting response... 200 OK\n",
            "Length: 3775 (3.7K) [text/plain]\n",
            "Saving to: ‘Lab3data.txt’\n",
            "\n",
            "Lab3data.txt        100%[===================>]   3.69K  --.-KB/s    in 0s      \n",
            "\n",
            "2024-12-10 21:14:01 (40.6 MB/s) - ‘Lab3data.txt’ saved [3775/3775]\n",
            "\n"
          ]
        }
      ],
      "source": [
        "!wget https://github.com/Fortuz/edu_Adaptive/raw/main/practices/assets/Lab03/Lab3data.txt"
      ]
    },
    {
      "cell_type": "markdown",
      "metadata": {
        "id": "LHJ_EeM8aCZm"
      },
      "source": [
        "Load in the data! Use the Pandas package to do this and then convert it into a numpy array."
      ]
    },
    {
      "cell_type": "code",
      "execution_count": 3,
      "metadata": {
        "id": "V4iRyMpFaCZm",
        "outputId": "8fedea06-65a3-4532-b88d-935d364c71a1",
        "colab": {
          "base_uri": "https://localhost:8080/"
        }
      },
      "outputs": [
        {
          "output_type": "stream",
          "name": "stdout",
          "text": [
            "X: (100, 2)\n",
            "Y: (100, 1)\n",
            "Number of data points: 100\n",
            "Number of features: 2\n"
          ]
        }
      ],
      "source": [
        "data = pd.read_csv('Lab3data.txt', header = None).to_numpy()\n",
        "X = data[:,0:2]                                                    # arrange X\n",
        "m,n = X.shape                                                      # m - number of data points | n - number of features\n",
        "Y = data[:,2].reshape(m,1)                                         # arrange Y\n",
        "del data                                                           # delete unnecessary data\n",
        "X_original = X\n",
        "\n",
        "print('X:', X.shape)                                               # print some helpful values\n",
        "print('Y:', Y.shape)\n",
        "print('Number of data points:',m)\n",
        "print('Number of features:',n)"
      ]
    },
    {
      "cell_type": "markdown",
      "metadata": {
        "id": "q6ILxLPraCZm"
      },
      "source": [
        "### 3: Visualize the data"
      ]
    },
    {
      "cell_type": "markdown",
      "metadata": {
        "id": "H66BNi5OaCZm"
      },
      "source": [
        "Let's vizualise the data set to understand it more."
      ]
    },
    {
      "cell_type": "code",
      "execution_count": 4,
      "metadata": {
        "id": "SQTQgV4_aCZm",
        "outputId": "0c3d4315-196d-4bde-c815-19238a2b0bd5",
        "colab": {
          "base_uri": "https://localhost:8080/",
          "height": 472
        }
      },
      "outputs": [
        {
          "output_type": "display_data",
          "data": {
            "text/plain": [
              "<Figure size 640x480 with 1 Axes>"
            ],
            "image/png": "[encoded data removed]"
          },
          "metadata": {}
        }
      ],
      "source": [
        "def plotData(X,Y):\n",
        "    pos=[]                                                  # Admited - 1\n",
        "    neg=[]                                                  # Denied - 0\n",
        "\n",
        "    for i in range(0,Y.size):                               # Y is used to check whether the person has been admitted\n",
        "        if Y[i] ==0:                                        # if not then the given elements of X go to neg\n",
        "            neg.append(X[i,:])\n",
        "        elif Y[i] ==1:                                      # if yes then the given elements of X go to pos\n",
        "            pos.append(X[i,:])\n",
        "\n",
        "    neg = np.array(neg)\n",
        "    pos = np.array(pos)\n",
        "\n",
        "    plt.scatter(neg[:,0],neg[:,1],marker='x',c=\"r\", label=\"Not admitted\")\n",
        "    plt.scatter(pos[:,0],pos[:,1],marker='o',c=\"g\", label=\"Admitted\")\n",
        "    plt.title(\"Training data\")\n",
        "    plt.xlabel(\"Exam 1 score\")\n",
        "    plt.ylabel(\"Exam 2 score\")\n",
        "    plt.legend(loc='lower left')\n",
        "    plt.show()\n",
        "\n",
        "    return pos, neg\n",
        "\n",
        "pos,neg=plotData(X,Y)"
      ]
    },
    {
      "cell_type": "markdown",
      "metadata": {
        "id": "vN-JcRc0aCZn"
      },
      "source": [
        "You can see that the two categories are quite distinct."
      ]
    },
    {
      "cell_type": "markdown",
      "metadata": {
        "id": "4p5UmEG9aCZn"
      },
      "source": [
        "### 4: Data preparation\n",
        "\n",
        "To do a Mean normalization and Feature scaling an the Data set is always a good idea. If the features located near the origo and have the same amplitude it can speed up convergence. Also not to forget to add the BIAS.\n",
        "\n",
        "##### Data normalization"
      ]
    },
    {
      "cell_type": "code",
      "execution_count": 5,
      "metadata": {
        "id": "Gc_yGkLraCZn"
      },
      "outputs": [],
      "source": [
        "def featureNormalization(X):\n",
        "    ################### CODE HERE ########################\n",
        "    # Implement the feature normalization function\n",
        "    # Calculate the mean and standard deviation of the data\n",
        "    # Normalize the X input data with the calculated variable\n",
        "\n",
        "    # Calculate the mean and standard deviation of the data\n",
        "    mean = np.mean(X, axis=0)\n",
        "    std = np.std(X, axis=0)\n",
        "\n",
        "    # Normalize the X input data with the calculated variables\n",
        "    X_norm = (X - mean) / std\n",
        "\n",
        "\n",
        "\n",
        "\n",
        "    #####################################################\n",
        "    return X_norm,mean,std\n",
        "\n",
        "X,mean,std=featureNormalization(X)"
      ]
    },
    {
      "cell_type": "markdown",
      "metadata": {
        "id": "WLhJc92LaCZn"
      },
      "source": [
        "#### Add bias to the X matrix\n",
        "\n",
        "As we have done in the previous steps, we add a column of ones to the X matrix to preserve the axis intercept in our hypothesis (See L01 - L02)."
      ]
    },
    {
      "cell_type": "code",
      "execution_count": 6,
      "metadata": {
        "id": "sOlWntqAaCZn",
        "outputId": "9710c057-d188-47b3-d39d-2ad961e09637",
        "colab": {
          "base_uri": "https://localhost:8080/"
        }
      },
      "outputs": [
        {
          "output_type": "stream",
          "name": "stdout",
          "text": [
            "(100, 3)\n",
            "[[ 1.         -1.60224763  0.63834112]\n",
            " [ 1.         -1.82625564 -1.2075414 ]\n",
            " [ 1.         -1.53903969  0.3612943 ]\n",
            " [ 1.         -0.28210129  1.0863683 ]\n",
            " [ 1.          0.69152826  0.49337794]\n",
            " [ 1.         -1.06199728 -0.5357394 ]\n",
            " [ 1.         -0.23437234  1.63818413]\n",
            " [ 1.          0.4845113  -1.06373024]\n",
            " [ 1.          0.53998666  1.14651105]\n",
            " [ 1.          0.97044832 -1.22709853]\n",
            " [ 1.          1.56075461 -1.51418452]\n",
            " [ 1.          0.48393864 -1.92641626]\n",
            " [ 1.          0.86065022  0.55490359]\n",
            " [ 1.          0.1921582   1.70347834]\n",
            " [ 1.         -1.34839922  0.53082781]\n",
            " [ 1.         -0.60293429  1.24314792]\n",
            " [ 1.          0.17694982 -0.72913975]\n",
            " [ 1.          0.11893077 -1.05699346]\n",
            " [ 1.          0.25914553  1.44433023]\n",
            " [ 1.          0.58543944 -1.00845873]\n",
            " [ 1.          0.0892403  -1.26468472]\n",
            " [ 1.          1.2413042  -0.02285779]\n",
            " [ 1.         -0.78042096 -0.93923898]\n",
            " [ 1.         -1.62350714 -1.19053019]\n",
            " [ 1.          0.63426559  0.14875155]\n",
            " [ 1.         -0.17423248  0.20186768]\n",
            " [ 1.          0.75131151 -1.15742514]\n",
            " [ 1.          1.41886056 -1.4830648 ]\n",
            " [ 1.         -0.19700066 -0.86350486]\n",
            " [ 1.         -1.38726847 -0.06632457]\n",
            " [ 1.         -0.22029098  0.35619356]\n",
            " [ 1.          1.02063763 -0.49595429]\n",
            " [ 1.         -0.69916396 -0.16735724]\n",
            " [ 1.         -0.70239602  0.1736574 ]\n",
            " [ 1.         -1.31231814  0.26748769]\n",
            " [ 1.         -0.56863523 -0.7576197 ]\n",
            " [ 1.         -1.63882482  1.76571557]\n",
            " [ 1.         -0.07578684  0.7942862 ]\n",
            " [ 1.          0.47234786 -1.33310268]\n",
            " [ 1.         -1.62497511  0.48760951]\n",
            " [ 1.          0.94305124 -0.53618968]\n",
            " [ 1.         -0.72810195 -1.0473818 ]\n",
            " [ 1.          1.48750373 -0.03532122]\n",
            " [ 1.          0.86383711 -1.38476189]\n",
            " [ 1.         -0.75392586 -1.10328278]\n",
            " [ 1.         -0.17672918 -0.76588887]\n",
            " [ 1.          0.59650575  0.22911224]\n",
            " [ 1.          1.65941042  1.10904426]\n",
            " [ 1.         -0.1844568   1.65210535]\n",
            " [ 1.          1.33883167  1.2155077 ]\n",
            " [ 1.          0.73863826  0.42949041]\n",
            " [ 1.          1.73693492 -0.2824808 ]\n",
            " [ 1.          1.28623744 -1.23482132]\n",
            " [ 1.         -1.60736862 -0.31507682]\n",
            " [ 1.         -0.79324552 -0.88792768]\n",
            " [ 1.         -0.82939191 -0.34684551]\n",
            " [ 1.          1.65290418  0.14275969]\n",
            " [ 1.         -1.70794943  1.5888117 ]\n",
            " [ 1.          0.44442728  0.19484284]\n",
            " [ 1.          0.31776703  0.66153625]\n",
            " [ 1.          0.50366692  1.05669679]\n",
            " [ 1.         -1.56803122 -1.03849986]\n",
            " [ 1.         -0.48502704 -1.45814261]\n",
            " [ 1.         -1.83802631 -0.89937003]\n",
            " [ 1.         -1.08343328  0.012336  ]\n",
            " [ 1.          0.04734442 -1.35913441]\n",
            " [ 1.         -1.30092096  1.69355351]\n",
            " [ 1.         -0.85594644 -0.77550399]\n",
            " [ 1.          0.75592876  1.40046365]\n",
            " [ 1.          0.05694243 -0.28289384]\n",
            " [ 1.         -1.70042734 -1.23933351]\n",
            " [ 1.         -0.08289756  0.63871945]\n",
            " [ 1.          0.34617678  1.62283321]\n",
            " [ 1.         -0.26788246  0.37172177]\n",
            " [ 1.         -0.35139858  0.52118118]\n",
            " [ 1.          1.76561835  0.33247025]\n",
            " [ 1.         -0.94934675  1.20358601]\n",
            " [ 1.         -0.78437891  0.51855329]\n",
            " [ 1.         -0.26800277 -1.28253412]\n",
            " [ 1.          0.8564979  -1.27109695]\n",
            " [ 1.          1.20190067  0.19371884]\n",
            " [ 1.          1.50770647 -1.11022692]\n",
            " [ 1.          0.08651467  0.01986816]\n",
            " [ 1.         -0.43415649 -0.36278249]\n",
            " [ 1.          0.76043181  1.33794685]\n",
            " [ 1.          0.14587539  1.04773882]\n",
            " [ 1.         -1.21735452  0.68269533]\n",
            " [ 1.          0.50790698  1.30897879]\n",
            " [ 1.          0.67100669  1.64553968]\n",
            " [ 1.         -0.68676645 -0.29489455]\n",
            " [ 1.          1.46947562  0.59152637]\n",
            " [ 1.          1.28116721  1.15128248]\n",
            " [ 1.         -0.52488391 -1.65775547]\n",
            " [ 1.          0.45703019  1.00722043]\n",
            " [ 1.          1.25003483 -1.12840052]\n",
            " [ 1.          0.92170742 -0.96495748]\n",
            " [ 1.         -1.2077347   1.12938152]\n",
            " [ 1.          1.73912916  0.13809961]\n",
            " [ 1.         -0.53222578 -0.06977207]\n",
            " [ 1.          0.4716578   1.26058811]]\n"
          ]
        }
      ],
      "source": [
        "def addBIAS(X):\n",
        "    ################### CODE HERE ########################\n",
        "    # Implemet the add BIAS function\n",
        "    # Make sure the dimensions match\n",
        "\n",
        "    # Create a column of ones with the same number of rows as X\n",
        "    bias_column = np.ones((X.shape[0], 1))\n",
        "\n",
        "    # Stack the bias column horizontally with X\n",
        "    X_extended = np.column_stack((bias_column, X))\n",
        "\n",
        "\n",
        "    #####################################################\n",
        "    return X_extended\n",
        "\n",
        "X = addBIAS(X)\n",
        "print(X.shape)\n",
        "print(X)"
      ]
    },
    {
      "cell_type": "markdown",
      "metadata": {
        "id": "HYQJKG_7aCZn"
      },
      "source": [
        "## 5: Model\n",
        "\n",
        "Befor we jump into the solution of the task in hand let's think it throuh what kind of model is needed here and what have we used so far.\n",
        "\n",
        "Since we are facing a classification problem, our linear regression model will not be fully adequate. Let's look at a simple example. We are trying to decide whether a tumour is lethal or not based on tumour size.\n",
        "\n",
        "<img src=\"https://github.com/Fortuz/edu_Adaptive/blob/main/practices/assets/Lab03/Pics/L03_Tumor.png?raw=1\" width=\"400\">\n",
        "\n",
        "If the method introduced so far is applied and fit a line using the following hypothesis.\n",
        "\n",
        "$ h_w(x)=XW $\n",
        "\n",
        "However, our line exceeds the range of [0,1] and is not precise enough. By then defining a limit for our fitted line, let it be 0.5, we can decide what our prediction will be.\n",
        "\n",
        "If $h_w(x)\\geq 0.5$, then \"y=1\", so it is lethal. <br>\n",
        "If $h_w(x)< 0.5$, then \"y=0\", so it is not lethal.  <br>\n",
        "\n",
        "However, our prediction may fall below 0 or above 1, which is unnecessary. It would be better to find a bounded hypothesis function that satisfies the following criterion.\n",
        "\n",
        "$0\\leq h_w(x) \\leq 1$\n",
        "\n",
        "Let us introduce the sigmoid function, which satisfies this criterion of being bounded on [0,1].\n",
        "\n",
        "Sigmoid:\n",
        "\n",
        "$ g(z) = \\frac{1}{1+e^{-z}} $\n",
        "\n",
        "<img src=\"https://github.com/Fortuz/edu_Adaptive/blob/main/practices/assets/Lab03/Pics/L03_Sigmoid.png?raw=1\" width=\"450\">\n",
        "\n",
        "Using the sigmoid function, we effectively assign a probability to each sample of the chance that the tumour size is lethal.\n",
        "\n",
        "$h_w(x)=P(y=1|X, W)$\n",
        "\n",
        "And we can extend our hypothesis as follows: <br>\n",
        "\n",
        "$ h_w(x) = g(XW) $ <br>\n",
        ", where $ g(XW) = \\frac{1}{1+e^{-XW}} $\n",
        "\n",
        "$g(XW)\\geq0.5$ <br>\n",
        "if $WX\\geq0$"
      ]
    },
    {
      "cell_type": "markdown",
      "metadata": {
        "id": "iKtCXfKraCZn"
      },
      "source": [
        "Let's look at two simple examples of classification using a sigmoid function. <br>\n",
        "\n",
        "#### Linear case:\n",
        "\n",
        "$ h_w(x)=g(w_01+w_1x_1+w_2x_2) $\n",
        "\n",
        "$w=[-3\\ 1\\ 1]$\n",
        "\n",
        "Prediction: $y=1$ ha $-3+x_1+x_2\\geq0$\n",
        "\n",
        "$x_1+x_2\\geq3$\n",
        "\n",
        "<img src=\"https://github.com/Fortuz/edu_Adaptive/blob/main/practices/assets/Lab03/Pics/L03_pelda_1.png?raw=1\" width=\"200\">\n",
        "\n",
        "#### Non-linear case:\n",
        "\n",
        "$ h_w(x)=g(w_01+w_1x_1+w_2x_2+w_3x_1^2+w_4x_2^2) $\n",
        "\n",
        "$w=[-1\\ 0\\ 0\\ 1\\ 1]$\n",
        "\n",
        "Prediction: $y=1$ ha $-1+x_1^2+x_2^2\\geq0$\n",
        "\n",
        "$x_1^2+x_2^2\\geq1$\n",
        "\n",
        "<img src=\"https://github.com/Fortuz/edu_Adaptive/blob/main/practices/assets/Lab03/Pics/L03_pelda_2.png?raw=1\" width=\"200\">"
      ]
    },
    {
      "cell_type": "markdown",
      "metadata": {
        "id": "2ZUOITkXaCZn"
      },
      "source": [
        "Let's create a sigmoid function then test it for the following values: -6, 0, 6"
      ]
    },
    {
      "cell_type": "code",
      "execution_count": 8,
      "metadata": {
        "id": "8_4M2ODcaCZn",
        "outputId": "89ddf44f-55f0-417f-c636-721d862ca6a1",
        "colab": {
          "base_uri": "https://localhost:8080/"
        }
      },
      "outputs": [
        {
          "output_type": "stream",
          "name": "stdout",
          "text": [
            "Function return for value -6 : 0.002\n",
            "Function return for value  0 : 0.500\n",
            "Function return for value  6 : 0.998\n",
            "\n",
            " The sigmoid() function is good.\n"
          ]
        }
      ],
      "source": [
        "def sigmoid(z):\n",
        "    ################### CODE HERE ########################\n",
        "    # Implemet the sigmoid function\n",
        "\n",
        "    g = 1 / (1 + np.exp(-z))\n",
        "\n",
        "    #####################################################\n",
        "    return g\n",
        "\n",
        "print('Function return for value -6 : %.3f' % sigmoid(-6))           # test for -6\n",
        "print('Function return for value  0 : %.3f' % sigmoid(0))            # test for 0\n",
        "print('Function return for value  6 : %.3f' % sigmoid(6))            # test for 6\n",
        "\n",
        "if sigmoid(-6) < 0.01 and sigmoid(0) == 0.5 and sigmoid(6) > 0.99:\n",
        "    print(\"\\n The sigmoid() function is good.\")\n",
        "else:\n",
        "    print(\"\\n Something wrong. Correct the sigmoid function!\")"
      ]
    },
    {
      "cell_type": "markdown",
      "metadata": {
        "id": "IHNQ71GZaCZn"
      },
      "source": [
        "### 6 Cost function\n",
        "Since we have changed our hypothesis function, we need to change the cost function we have been using. To adapt it to the task. The MSE introduced in our previous examples provided a reasonably smooth convergence, with our modified hypothesis it is not the best choice for solving classification problems as it will result in a non-convex function with many local mininmum points. The question is: can we find a cost function that can define a convex cost function in classification problems? On a convex function, our gradient method is much less likely to get stuck at a local minimum point.\n",
        "\n",
        "<img src=\"https://github.com/Fortuz/edu_Adaptive/blob/main/practices/assets/Lab03/Pics/L03_Costfunction.png?raw=1\" width=\"600\">\n",
        "\n",
        "Let:\n",
        "\n",
        "$ C(w) = {-log(h_w(x)),\\   if \\ y=1} $\n",
        "\n",
        "$ C(w) = {-log(1-h_w(x)),\\ if \\ y=0} $\n",
        "\n",
        "<img src=\"https://github.com/Fortuz/edu_Adaptive/blob/main/practices/assets/Lab03/Pics/L03_LogCost.png?raw=1\" width=\"300\">\n",
        "\n",
        "So we use the following relation as the cost function:\n",
        "\n",
        "$ C(w) = \\frac{1}{m} \\sum{-y^i\\cdot\\log(h_w(x^i))-(1-y^i)\\cdot\\log(1-h_w(x^i))} $\n",
        "\n",
        "\n",
        "### 7: Gradient Descent Algorithm\n",
        "Our aim remains to minimise the cost function. Descending the gradient is still a workable way of truncating the weights using the derivative of the cost function.\n",
        "\n",
        "$w_j:=w_j-\\mu\\frac{\\partial}{\\partial w_j}C(w)$\n",
        "\n",
        "The partial derivative of the cost function can be calculated in the usual way:\n",
        "\n",
        "$ \\frac{\\partial}{\\partial w_j}C(w)=\\frac{1}{m}\\sum_{i=1}^{m}(h_w(x^i)-y^i)\\cdot x_j^i $\n",
        "\n",
        "\n",
        "### Define the costFunction\n",
        "\n",
        "Write the definition of costFunction and test it with two values of w."
      ]
    },
    {
      "cell_type": "code",
      "execution_count": 9,
      "metadata": {
        "id": "DOnP_ya6aCZo"
      },
      "outputs": [],
      "source": [
        "def costFunction(w,X,Y):\n",
        "    ################### CODE HERE ########################\n",
        "    # Implement the cost function calculation for a logistic regression task\n",
        "    m = len(Y)  # Number of training examples\n",
        "\n",
        "    # Calculate the hypothesis (predictions)\n",
        "    h = sigmoid(np.dot(X, w))\n",
        "\n",
        "    # Calculate the cost\n",
        "    C = (-1 / m) * np.sum(Y * np.log(h) + (1 - Y) * np.log(1 - h))\n",
        "\n",
        "    # Calculate the gradient\n",
        "    grad = (1 / m) * np.dot(X.T, (h - Y))\n",
        "\n",
        "\n",
        "\n",
        "\n",
        "\n",
        "    ####################################################\n",
        "    return C, grad"
      ]
    },
    {
      "cell_type": "code",
      "execution_count": 10,
      "metadata": {
        "id": "GFm8XR_waCZo",
        "outputId": "c7b88111-bac9-4450-d809-455b960b031f",
        "colab": {
          "base_uri": "https://localhost:8080/"
        }
      },
      "outputs": [
        {
          "output_type": "stream",
          "name": "stdout",
          "text": [
            "Cost and Gradient at initial weights (zeros):\n",
            "Expected cost (approx.): 0.693\n",
            "Computed: 0.6931471805599453\n",
            "Expected gradient(approx.):\n",
            " [[-0.1]\n",
            " [-0.28]\n",
            " [-0.25]]\n",
            "Computed:\n",
            " [[-0.1       ]\n",
            " [-0.28122914]\n",
            " [-0.25098615]]\n",
            "\n",
            "Test weights: [[-24  13  16]]\n",
            "Cost and Gradient  at test weights:\n",
            "Expected cost (approx.): 7.74\n",
            "Computed: 7.733307911943509\n",
            "Expected gradient(approx.):\n",
            " [[-0.44]\n",
            " [-0.14]\n",
            " [-0.06]]\n",
            "Computed:\n",
            " [[-0.43950263]\n",
            " [-0.14278618]\n",
            " [-0.06318899]]\n",
            "\n",
            "\n"
          ]
        }
      ],
      "source": [
        "initial_w = np.zeros(((n+1),1))                                             # initial weights (null vector)\n",
        "C1,grad1 = costFunction(initial_w,X,Y)                                      # test the cost function\n",
        "\n",
        "print('''Cost and Gradient at initial weights (zeros):\n",
        "Expected cost (approx.): 0.693\n",
        "Computed:''',C1)\n",
        "print('''Expected gradient(approx.):\n",
        " [[-0.1]\n",
        " [-0.28]\n",
        " [-0.25]]\n",
        "Computed:\\n''',grad1)\n",
        "\n",
        "test_w = np.array([[-24], [13], [16]])                                    # test weights [-24;0.2;0.2]\n",
        "C2, grad2 = costFunction(test_w,X,Y)                                      # test the cost function\n",
        "print('\\nTest weights:',test_w.transpose())\n",
        "print('''Cost and Gradient  at test weights:\n",
        "Expected cost (approx.): 7.74\n",
        "Computed:''',C2)\n",
        "print('''Expected gradient(approx.):\n",
        " [[-0.44]\n",
        " [-0.14]\n",
        " [-0.06]]\n",
        "Computed:\\n''',grad2)\n",
        "print('\\n')"
      ]
    },
    {
      "cell_type": "markdown",
      "metadata": {
        "id": "uGeQBXpFaCZo"
      },
      "source": [
        "### 8: Definition of the Gradient Descent Method\n",
        "\n",
        "We run the algorithm up to a certain number of iterations in the following test for better visualization."
      ]
    },
    {
      "cell_type": "code",
      "execution_count": 11,
      "metadata": {
        "id": "ic9XoXvdaCZo"
      },
      "outputs": [],
      "source": [
        "def gradientDescent(X,Y,w,learning_rate,num_iters):\n",
        "    C_history = []\n",
        "    ################### CODE HERE ########################\n",
        "    # Implement the Gradient Descent algorithm\n",
        "    m = len(Y)  # Number of training examples\n",
        "    C_history = []\n",
        "\n",
        "    for i in range(num_iters):\n",
        "        # Calculate the cost and gradient\n",
        "        C, grad = costFunction(w, X, Y)\n",
        "\n",
        "        # Update the weights\n",
        "        w = w - learning_rate * grad\n",
        "\n",
        "        # Store the cost for this iteration\n",
        "        C_history.append(C)\n",
        "\n",
        "\n",
        "\n",
        "\n",
        "\n",
        "    ####################################################\n",
        "    return w, np.array(C_history)"
      ]
    },
    {
      "cell_type": "markdown",
      "metadata": {
        "id": "L5rE6vDbaCZo"
      },
      "source": [
        "### 9: Trying out the gradient descent method for multiple learning rates"
      ]
    },
    {
      "cell_type": "code",
      "execution_count": 12,
      "metadata": {
        "id": "jGMouBrfaCZo",
        "outputId": "466b27e8-0d3c-4f5a-a6a9-3b35f3fadace",
        "colab": {
          "base_uri": "https://localhost:8080/",
          "height": 472
        }
      },
      "outputs": [
        {
          "output_type": "display_data",
          "data": {
            "text/plain": [
              "<Figure size 640x480 with 1 Axes>"
            ],
            "image/png": "[encoded data removed]"
          },
          "metadata": {}
        }
      ],
      "source": [
        "w = np.array([[0],[0],[0]])     # initial weights\n",
        "epoch = 400\n",
        "\n",
        "w_a, C_history_a = gradientDescent(X,Y,w,0.01,epoch)\n",
        "plt.plot(range(C_history_a.size), C_history_a, label= \"learning r.:0.01\")\n",
        "\n",
        "w_b, C_history_b = gradientDescent(X,Y,w,0.1, epoch)\n",
        "plt.plot(range(C_history_b.size), C_history_b, label= \"learning r.:0.1\")\n",
        "\n",
        "w, C_history = gradientDescent(X,Y,w,1,epoch)\n",
        "plt.plot(range(C_history.size), C_history, label= \"learning r.:1\")\n",
        "\n",
        "plt.title(\"Effect of the different constants on the cost function\")\n",
        "plt.xlabel(\"Iteration\")\n",
        "plt.ylabel(\"Cost function value\")\n",
        "plt.legend()\n",
        "plt.show()"
      ]
    },
    {
      "cell_type": "markdown",
      "metadata": {
        "id": "vbJzyyI8aCZo"
      },
      "source": [
        "The graph above shows how the learning rate affected our results:<br>\n",
        "When the learning rate $(\\mu)$ is chosen to be small, convergence is slow. <br>\n",
        "As the learning rate $(\\mu)$ increases, convergence accelerates.<br>"
      ]
    },
    {
      "cell_type": "code",
      "execution_count": 13,
      "metadata": {
        "id": "eIwLIfYvaCZo",
        "outputId": "4895a247-fcf6-4dbd-ee95-afa6b08a1279",
        "colab": {
          "base_uri": "https://localhost:8080/"
        }
      },
      "outputs": [
        {
          "output_type": "stream",
          "name": "stdout",
          "text": [
            "The cost function at found weights by the gradient descent alg.:\n",
            "Expected (approx): 0.203\n",
            "Computed: 0.2036\n",
            "Weights expected (approx.):\n",
            "[1.658 3.883 3.619]\n",
            "Weights computed: \n",
            " [[1.65947664 3.8670477  3.60347302]]\n"
          ]
        }
      ],
      "source": [
        "print('''The cost function at found weights by the gradient descent alg.:\n",
        "Expected (approx): 0.203\n",
        "Computed: %.04f''' % C_history[-1])\n",
        "print('''Weights expected (approx.):\n",
        "[1.658 3.883 3.619]\n",
        "Weights computed: \\n''', w.transpose())"
      ]
    },
    {
      "cell_type": "markdown",
      "metadata": {
        "id": "rIjz9GWjaCZo"
      },
      "source": [
        "### 9: Visualization of the decision limit"
      ]
    },
    {
      "cell_type": "code",
      "execution_count": 14,
      "metadata": {
        "id": "JUMy9RWfaCZo",
        "outputId": "2e94e93d-ef77-4e97-b354-870aa91a9702",
        "colab": {
          "base_uri": "https://localhost:8080/",
          "height": 472
        }
      },
      "outputs": [
        {
          "output_type": "display_data",
          "data": {
            "text/plain": [
              "<Figure size 640x480 with 1 Axes>"
            ],
            "image/png": "[encoded data removed]"
          },
          "metadata": {}
        }
      ],
      "source": [
        "plt.scatter(pos[:,0],pos[:,1],c=\"g\", marker=\"o\",label=\"Admitted\")\n",
        "plt.scatter(neg[:,0],neg[:,1],c=\"r\",marker=\"x\",label=\"Not admitted\")\n",
        "\n",
        "Exam1_val     = np.array([min(X_original[:, 0])-2, max(X_original[:, 0]+2)])  # add two x values to the decision limit\n",
        "Exam1_norm = (Exam1_val - mean[0]) / std[0]\n",
        "Exam2_norm = (-w[0]-w[1]*Exam1_norm)/w[2]                                     # calculate the corresponding y\n",
        "Exam2_val     = (Exam2_norm * std[1]) + mean[1]\n",
        "\n",
        "plt.plot(Exam1_val,Exam2_val,\"k\")                                             # draw the decision boundary in black\n",
        "plt.title(\"Decision boundary and the training data\")\n",
        "plt.xlabel(\"Exam 1 score\")\n",
        "plt.ylabel(\"Exam 2 score\")\n",
        "plt.legend(loc=0)\n",
        "plt.show()"
      ]
    },
    {
      "cell_type": "markdown",
      "metadata": {
        "id": "79-28UhmaCZo"
      },
      "source": [
        "### 10: Prediction\n",
        "When calculating the prediction, we have to make sure that we perform the same operations on the sample as we did in the data preparation phase before the training. So if we have normalised our data, we must also normalise the new data and add the BIAS. Then we can use our saved weight vector to calculate our prediction."
      ]
    },
    {
      "cell_type": "code",
      "execution_count": 18,
      "metadata": {
        "id": "W4uCUSRnaCZo",
        "outputId": "db2cfde0-838b-4360-8fc2-c34a0176bae8",
        "colab": {
          "base_uri": "https://localhost:8080/"
        }
      },
      "outputs": [
        {
          "output_type": "stream",
          "name": "stdout",
          "text": [
            "Expected result of the prediction with [45 , 85] (approx.):\n",
            "Accepted (1) with 0.767 possibility\n",
            "Predicted: 1 with 0.7678 possibility\n"
          ]
        },
        {
          "output_type": "stream",
          "name": "stderr",
          "text": [
            "<ipython-input-18-3d4b08c71073>:35: DeprecationWarning: Conversion of an array with ndim > 0 to a scalar is deprecated, and will error in future. Ensure you extract a single element from your array before performing this operation. (Deprecated NumPy 1.25.)\n",
            "  print('''Expected result of the prediction with [45 , 85] (approx.):\n"
          ]
        }
      ],
      "source": [
        "def predict(X):\n",
        "    ################### CODE HERE ########################\n",
        "    # Implement the prediction function.\n",
        "    # First normalize the data with the previously calculated mean and std\n",
        "    # Do not forget to add the BIAS\n",
        "    # Using a sigmoid function you can calculate the classification for each X\n",
        "\n",
        "    # Normalize the data\n",
        "    X_norm = (X - mean) / std\n",
        "\n",
        "    # Reshape X_norm to a 2D array if it's 1D\n",
        "    # The current reshaping might be incorrect when called with X_original in calculateAccuracy\n",
        "    #X_norm = X_norm.reshape(1, -1)\n",
        "    # Fixed Reshape: ensures X_norm remains 2D with the correct number of features.\n",
        "    if X_norm.ndim == 1:  # If X_norm is 1D, reshape to 2D\n",
        "        X_norm = X_norm.reshape(1, -1)\n",
        "\n",
        "    # Add bias term\n",
        "    X_norm = np.column_stack((np.ones(X_norm.shape[0]), X_norm))\n",
        "\n",
        "    # Calculate the predicted probabilities\n",
        "    h = sigmoid(np.dot(X_norm, w))\n",
        "\n",
        "    # Convert probabilities to class labels (0 or 1)\n",
        "    p = (h >= 0.5).astype(int)\n",
        "\n",
        "\n",
        "\n",
        "\n",
        "    ######################################################\n",
        "    return p, h\n",
        "\n",
        "NewScore = np.array([45,85])\n",
        "pred, h =predict(NewScore)\n",
        "print('''Expected result of the prediction with [45 , 85] (approx.):\n",
        "Accepted (1) with 0.767 possibility\n",
        "Predicted: %.0f with %.4f possibility''' % (pred, h[0]))"
      ]
    },
    {
      "cell_type": "markdown",
      "metadata": {
        "id": "pyON98vgaCZp"
      },
      "source": [
        "### 11: Accuracy\n",
        "Let's examine how our linear model performs when evaluating the original data. Calculate the accuracy of the algorithm. To do this, we can use the predict() function written earlier or we can evaluate all the samples in a batch."
      ]
    },
    {
      "cell_type": "code",
      "execution_count": 21,
      "metadata": {
        "id": "o7IwRgr0aCZp",
        "outputId": "f84f8f12-a270-4b78-d677-d459163908b0",
        "colab": {
          "base_uri": "https://localhost:8080/"
        }
      },
      "outputs": [
        {
          "output_type": "stream",
          "name": "stdout",
          "text": [
            "89.0 % accuracy (approx. 89.0 % expected)\n"
          ]
        }
      ],
      "source": [
        "def calculateAccuracy():\n",
        "    ################### CODE HERE ########################\n",
        "    # Implement the accuracy calculation function.\n",
        "    # Calculate the prediction for each original X.\n",
        "    # If it is greater than 0.5 then positive otherwise negative.\n",
        "    # Compare the result with the elements of Y.\n",
        "    # And finally calculate a percentage to reflect the accuracy.\n",
        "\n",
        "    # Get predictions for the original data\n",
        "    predictions, _ = predict(X_original)  # Get predictions for original data\n",
        "\n",
        "    # Compare predictions with true labels (Y) and count correct predictions\n",
        "    correct_predictions = np.sum(predictions == Y)\n",
        "\n",
        "    # Calculate accuracy percentage\n",
        "    accuracy = (correct_predictions / len(Y)) * 100\n",
        "\n",
        "    ######################################################\n",
        "    return accuracy # Return the scalar value directly\n",
        "\n",
        "\n",
        "print(float(calculateAccuracy()), '% accuracy (approx. 89.0 % expected)')"
      ]
    },
    {
      "cell_type": "markdown",
      "metadata": {
        "id": "AZDiJW-oaCZp"
      },
      "source": [
        "## Implementation with high level packages"
      ]
    },
    {
      "cell_type": "code",
      "execution_count": 22,
      "metadata": {
        "id": "T5l2B0bvaCZp",
        "outputId": "e3d94dc0-5f02-4821-e6ce-f70b7e2bc8bb",
        "colab": {
          "base_uri": "https://localhost:8080/"
        }
      },
      "outputs": [
        {
          "output_type": "stream",
          "name": "stdout",
          "text": [
            "Prediction for the approval: 1 \n",
            "The value of the probability: 0.7752856046030867\n",
            "Accuracy on the training data: 0.89\n"
          ]
        }
      ],
      "source": [
        "import pandas as pd\n",
        "import numpy as np\n",
        "from sklearn.linear_model import LogisticRegression\n",
        "\n",
        "data = pd.read_csv('Lab3data.txt', header = None)\n",
        "\n",
        "XX = data.iloc[:, 0:2].values.reshape(-1, 2)            # Separation of data\n",
        "YY = data.iloc[:, 2].values.reshape(-1,)                # LogReg fits to a 1d array\n",
        "\n",
        "logReg = LogisticRegression().fit(XX,YY)\n",
        "test = np.array([[45, 85]])\n",
        "pred = logReg.predict(test)                             # prediction\n",
        "pred_p = logReg.predict_proba(test)                     # probability of the prediction\n",
        "\n",
        "print(\"\"\"Prediction for the approval:\"\"\",int(pred[0]),\"\"\"\n",
        "The value of the probability:\"\"\",pred_p[0,1])\n",
        "\n",
        "acc = logReg.score(XX,YY)                               # calculate accuracy\n",
        "print('Accuracy on the training data:',acc)"
      ]
    },
    {
      "cell_type": "markdown",
      "metadata": {
        "id": "WChNRjFTaCZp"
      },
      "source": [
        "<div style=\"text-align: right\">This lab exercise uses elements from Andrew Ng's Machine Learning course.</div>"
      ]
    }
  ],
  "metadata": {
    "kernelspec": {
      "display_name": "Python 3",
      "language": "python",
      "name": "python3"
    },
    "language_info": {
      "codemirror_mode": {
        "name": "ipython",
        "version": 3
      },
      "file_extension": ".py",
      "mimetype": "text/x-python",
      "name": "python",
      "nbconvert_exporter": "python",
      "pygments_lexer": "ipython3",
      "version": "3.7.7"
    },
    "colab": {
      "provenance": []
    }
  },
  "nbformat": 4,
  "nbformat_minor": 0
}