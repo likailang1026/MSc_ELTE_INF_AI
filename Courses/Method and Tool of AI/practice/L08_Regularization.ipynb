{
  "cells": [
    {
      "cell_type": "markdown",
      "metadata": {
        "id": "Cg9I7xu8m_w1"
      },
      "source": [
        "<img src=\"https://github.com/Fortuz/edu_Adaptive/blob/main/practices/assets/logo.png?raw=1\" width=\"800\">"
      ]
    },
    {
      "cell_type": "markdown",
      "metadata": {
        "id": "UWk9pvdwm_w2"
      },
      "source": [
        "Made by **Balázs Nagy** and **Márk Domokos**\n",
        "\n",
        "[<img src=\"https://github.com/Fortuz/edu_Adaptive/blob/main/practices/assets/open_button.png?raw=1\">](https://colab.research.google.com/github/Fortuz/edu_Adaptive/blob/main/practices/L08%20-%20Regularization_solved.ipynb)\n",
        "\n",
        "# Labor 08 - Regularisation of Linear Regression and Bias - Variance\n",
        "\n",
        "### Water flow\n",
        "\n",
        "In the first part of the exercise, a linear regression is implemented to predict the amount of water spilled from a tank based on how much water is in the tank. In the second half of the exercise, we observe the debugging of the learning algorithms and the bias and variance type errors."
      ]
    },
    {
      "cell_type": "markdown",
      "metadata": {
        "id": "oSjl8jntm_w3"
      },
      "source": [
        "### 1: Import, load and visualise data"
      ]
    },
    {
      "cell_type": "code",
      "execution_count": 3,
      "metadata": {
        "id": "41o8yGTpm_w3"
      },
      "outputs": [],
      "source": [
        "import numpy as np\n",
        "import matplotlib.pyplot as plt\n",
        "from scipy.io import loadmat\n",
        "import scipy.optimize as op\n",
        "\n",
        "# keras imports for the dataset and building our neural network\n",
        "from keras.models import Sequential\n",
        "from keras.layers import Dense, Activation # Import layers directly from keras.layers\n",
        "from keras import regularizers\n",
        "from keras import optimizers\n",
        "\n",
        "\n",
        "from numpy.random import seed\n",
        "# Since this nootebook contains a random initialization it is advised to fix the seed, to get always the same random results\n",
        "seed(1)"
      ]
    },
    {
      "cell_type": "markdown",
      "metadata": {
        "id": "K3AynuQbm_w4"
      },
      "source": [
        "### 2: Load data"
      ]
    },
    {
      "cell_type": "markdown",
      "metadata": {
        "id": "jgxqIeOem_w4"
      },
      "source": [
        "The data will be loaded from a publicly available file. An alternative solution would be to upload the data file directly to the google colab file system."
      ]
    },
    {
      "cell_type": "code",
      "execution_count": 4,
      "metadata": {
        "id": "CQRfUy0jm_w4",
        "outputId": "8a360b0d-072e-4e6a-e940-f86cae177218",
        "colab": {
          "base_uri": "https://localhost:8080/"
        }
      },
      "outputs": [
        {
          "output_type": "stream",
          "name": "stdout",
          "text": [
            "--2024-12-10 22:09:04--  https://github.com/Fortuz/edu_Adaptive/raw/main/practices/assets/Lab08/Lab8data.mat\n",
            "Resolving github.com (github.com)... 140.82.112.4\n",
            "Connecting to github.com (github.com)|140.82.112.4|:443... connected.\n",
            "HTTP request sent, awaiting response... 302 Found\n",
            "Location: https://raw.githubusercontent.com/Fortuz/edu_Adaptive/main/practices/assets/Lab08/Lab8data.mat [following]\n",
            "--2024-12-10 22:09:04--  https://raw.githubusercontent.com/Fortuz/edu_Adaptive/main/practices/assets/Lab08/Lab8data.mat\n",
            "Resolving raw.githubusercontent.com (raw.githubusercontent.com)... 185.199.108.133, 185.199.109.133, 185.199.110.133, ...\n",
            "Connecting to raw.githubusercontent.com (raw.githubusercontent.com)|185.199.108.133|:443... connected.\n",
            "HTTP request sent, awaiting response... 200 OK\n",
            "Length: 1321 (1.3K) [application/octet-stream]\n",
            "Saving to: ‘Lab8data.mat’\n",
            "\n",
            "\rLab8data.mat          0%[                    ]       0  --.-KB/s               \rLab8data.mat        100%[===================>]   1.29K  --.-KB/s    in 0s      \n",
            "\n",
            "2024-12-10 22:09:05 (58.0 MB/s) - ‘Lab8data.mat’ saved [1321/1321]\n",
            "\n",
            "--2024-12-10 22:09:05--  https://github.com/Fortuz/edu_Adaptive/raw/main/practices/assets/Lab08/w_final.txt\n",
            "Resolving github.com (github.com)... 140.82.112.3\n",
            "Connecting to github.com (github.com)|140.82.112.3|:443... connected.\n",
            "HTTP request sent, awaiting response... 302 Found\n",
            "Location: https://raw.githubusercontent.com/Fortuz/edu_Adaptive/main/practices/assets/Lab08/w_final.txt [following]\n",
            "--2024-12-10 22:09:05--  https://raw.githubusercontent.com/Fortuz/edu_Adaptive/main/practices/assets/Lab08/w_final.txt\n",
            "Resolving raw.githubusercontent.com (raw.githubusercontent.com)... 185.199.108.133, 185.199.109.133, 185.199.110.133, ...\n",
            "Connecting to raw.githubusercontent.com (raw.githubusercontent.com)|185.199.108.133|:443... connected.\n",
            "HTTP request sent, awaiting response... 200 OK\n",
            "Length: 155 [text/plain]\n",
            "Saving to: ‘w_final.txt’\n",
            "\n",
            "w_final.txt         100%[===================>]     155  --.-KB/s    in 0s      \n",
            "\n",
            "2024-12-10 22:09:05 (7.77 MB/s) - ‘w_final.txt’ saved [155/155]\n",
            "\n"
          ]
        }
      ],
      "source": [
        "!wget https://github.com/Fortuz/edu_Adaptive/raw/main/practices/assets/Lab08/Lab8data.mat\n",
        "!wget https://github.com/Fortuz/edu_Adaptive/raw/main/practices/assets/Lab08/w_final.txt"
      ]
    },
    {
      "cell_type": "markdown",
      "metadata": {
        "id": "T7zHlXuFm_w5"
      },
      "source": [
        "Load in the data! Use the Pandas package to do this and then convert it into a numpy array."
      ]
    },
    {
      "cell_type": "code",
      "execution_count": 5,
      "metadata": {
        "id": "CAfpXHA9m_w6",
        "outputId": "5e5fa763-ff58-48ee-c917-b93f4b25b448",
        "colab": {
          "base_uri": "https://localhost:8080/"
        }
      },
      "outputs": [
        {
          "output_type": "stream",
          "name": "stdout",
          "text": [
            "Shape of X: (12, 1)\n",
            "Shape of Y: (12, 1)\n"
          ]
        }
      ],
      "source": [
        "data = loadmat(\"Lab8data.mat\")\n",
        "X_train = data[\"X\"]\n",
        "Y_train = data[\"y\"]\n",
        "X_val   = data[\"Xval\"]\n",
        "Y_val   = data[\"yval\"]\n",
        "X_test  = data[\"Xtest\"]\n",
        "Y_test  = data[\"ytest\"]\n",
        "\n",
        "del data\n",
        "m,n = X_train.shape\n",
        "print('Shape of X:', X_train.shape)\n",
        "print('Shape of Y:', Y_train.shape)"
      ]
    },
    {
      "cell_type": "markdown",
      "metadata": {
        "id": "GQ6e5G2Xm_w6"
      },
      "source": [
        "### 3: Visualization\n",
        "\n",
        "Let's vizualise the data set to understand it more."
      ]
    },
    {
      "cell_type": "code",
      "execution_count": 6,
      "metadata": {
        "id": "OVtawtOtm_w7",
        "outputId": "4ff519e8-a814-40f1-b34b-2425de96c172",
        "colab": {
          "base_uri": "https://localhost:8080/",
          "height": 472
        }
      },
      "outputs": [
        {
          "output_type": "display_data",
          "data": {
            "text/plain": [
              "<Figure size 640x480 with 1 Axes>"
            ],
            "image/png": "[encoded data removed]"
          },
          "metadata": {}
        }
      ],
      "source": [
        "plt.plot(X_train,Y_train,'x')\n",
        "plt.title('Training data')\n",
        "plt.xlabel('Change in water level (X)')\n",
        "plt.ylabel('Water floeing out of the dam (Y)')\n",
        "plt.show()"
      ]
    },
    {
      "cell_type": "markdown",
      "metadata": {
        "id": "_5X08KYFm_w7"
      },
      "source": [
        "Machine learning goes as far as deep learning. The limit is the single layer neural network. With this in mind, let's return to the punishment process introduced in lab L04, now using neural network packages."
      ]
    },
    {
      "cell_type": "markdown",
      "metadata": {
        "id": "7e_R1kKSm_w7"
      },
      "source": [
        "### Linearized regression with regularization"
      ]
    },
    {
      "cell_type": "markdown",
      "metadata": {
        "id": "h5xp4BmJm_w7"
      },
      "source": [
        "We will create a network corresponding to a linear regression, which in our case will be based on 1 input variable and will consist of 1 layer containing 1 neuron. The BIAS tag will be added naturally and a penalty tag will be added. Two commonly used penalty methods are L1 and L2.\n",
        "\n",
        "#### L2 regularizáció (Ridge regression)\n",
        "$ C(w)=\\frac{1}{2m}\\sum_{i=1}^m(h_w(x^i)-y^i)^2+ \\color{red}{\\lambda\\sum_{j=1}^nw_j^2} $\n",
        "\n",
        "This technique can be used to prevent over fitting. $\\lambda $  should be choosen wisely. Setting it too high can result in under fitting.\n",
        "\n",
        "#### L1 regularisation (Lasso regression)\n",
        "$ C(w)=\\frac{1}{2m}\\sum_{i=1}^m(h_w(x^i)-y^i)^2+ \\color{red}{\\lambda\\sum_{j=1}^n|w_j|} $\n",
        "\n",
        "This technique can also reduce certain coefficients to 0, so it is useful for input parameter selection."
      ]
    },
    {
      "cell_type": "markdown",
      "metadata": {
        "id": "2FGJooEQm_w7"
      },
      "source": [
        "Vizsgáljuk meg az alábbi háló összeállítást."
      ]
    },
    {
      "cell_type": "code",
      "execution_count": 8,
      "metadata": {
        "id": "AG8XNd7Km_w7",
        "outputId": "5bc4c0dd-2647-451f-eb0d-b763962cc0f0",
        "colab": {
          "base_uri": "https://localhost:8080/"
        }
      },
      "outputs": [
        {
          "output_type": "stream",
          "name": "stderr",
          "text": [
            "/usr/local/lib/python3.10/dist-packages/keras/src/layers/core/dense.py:87: UserWarning: Do not pass an `input_shape`/`input_dim` argument to a layer. When using Sequential models, prefer using an `Input(shape)` object as the first layer in the model instead.\n",
            "  super().__init__(activity_regularizer=activity_regularizer, **kwargs)\n"
          ]
        },
        {
          "output_type": "stream",
          "name": "stdout",
          "text": [
            "Epoch 1/100\n",
            "1/1 - 1s - 750ms/step - loss: 484.3633 - val_loss: 551.5980\n",
            "Epoch 2/100\n",
            "1/1 - 0s - 46ms/step - loss: 479.4102 - val_loss: 546.3466\n",
            "Epoch 3/100\n",
            "1/1 - 0s - 57ms/step - loss: 474.5013 - val_loss: 541.1425\n",
            "Epoch 4/100\n",
            "1/1 - 0s - 48ms/step - loss: 469.6373 - val_loss: 535.9861\n",
            "Epoch 5/100\n",
            "1/1 - 0s - 48ms/step - loss: 464.8191 - val_loss: 530.8785\n",
            "Epoch 6/100\n",
            "1/1 - 0s - 52ms/step - loss: 460.0470 - val_loss: 525.8201\n",
            "Epoch 7/100\n",
            "1/1 - 0s - 45ms/step - loss: 455.3219 - val_loss: 520.8116\n",
            "Epoch 8/100\n",
            "1/1 - 0s - 58ms/step - loss: 450.6445 - val_loss: 515.8538\n",
            "Epoch 9/100\n",
            "1/1 - 0s - 62ms/step - loss: 446.0152 - val_loss: 510.9474\n",
            "Epoch 10/100\n",
            "1/1 - 0s - 64ms/step - loss: 441.4348 - val_loss: 506.0929\n",
            "Epoch 11/100\n",
            "1/1 - 0s - 54ms/step - loss: 436.9038 - val_loss: 501.2907\n",
            "Epoch 12/100\n",
            "1/1 - 0s - 55ms/step - loss: 432.4226 - val_loss: 496.5417\n",
            "Epoch 13/100\n",
            "1/1 - 0s - 49ms/step - loss: 427.9919 - val_loss: 491.8459\n",
            "Epoch 14/100\n",
            "1/1 - 0s - 46ms/step - loss: 423.6120 - val_loss: 487.2042\n",
            "Epoch 15/100\n",
            "1/1 - 0s - 57ms/step - loss: 419.2832 - val_loss: 482.6167\n",
            "Epoch 16/100\n",
            "1/1 - 0s - 49ms/step - loss: 415.0061 - val_loss: 478.0839\n",
            "Epoch 17/100\n",
            "1/1 - 0s - 55ms/step - loss: 410.7810 - val_loss: 473.6063\n",
            "Epoch 18/100\n",
            "1/1 - 0s - 49ms/step - loss: 406.6082 - val_loss: 469.1838\n",
            "Epoch 19/100\n",
            "1/1 - 0s - 57ms/step - loss: 402.4878 - val_loss: 464.8170\n",
            "Epoch 20/100\n",
            "1/1 - 0s - 45ms/step - loss: 398.4201 - val_loss: 460.5059\n",
            "Epoch 21/100\n",
            "1/1 - 0s - 49ms/step - loss: 394.4054 - val_loss: 456.2508\n",
            "Epoch 22/100\n",
            "1/1 - 0s - 55ms/step - loss: 390.4437 - val_loss: 452.0518\n",
            "Epoch 23/100\n",
            "1/1 - 0s - 48ms/step - loss: 386.5352 - val_loss: 447.9089\n",
            "Epoch 24/100\n",
            "1/1 - 0s - 46ms/step - loss: 382.6801 - val_loss: 443.8224\n",
            "Epoch 25/100\n",
            "1/1 - 0s - 46ms/step - loss: 378.8783 - val_loss: 439.7921\n",
            "Epoch 26/100\n",
            "1/1 - 0s - 51ms/step - loss: 375.1299 - val_loss: 435.8181\n",
            "Epoch 27/100\n",
            "1/1 - 0s - 48ms/step - loss: 371.4348 - val_loss: 431.9003\n",
            "Epoch 28/100\n",
            "1/1 - 0s - 56ms/step - loss: 367.7930 - val_loss: 428.0388\n",
            "Epoch 29/100\n",
            "1/1 - 0s - 133ms/step - loss: 364.2044 - val_loss: 424.2333\n",
            "Epoch 30/100\n",
            "1/1 - 0s - 51ms/step - loss: 360.6689 - val_loss: 420.4838\n",
            "Epoch 31/100\n",
            "1/1 - 0s - 58ms/step - loss: 357.1864 - val_loss: 416.7901\n",
            "Epoch 32/100\n",
            "1/1 - 0s - 61ms/step - loss: 353.7567 - val_loss: 413.1520\n",
            "Epoch 33/100\n",
            "1/1 - 0s - 52ms/step - loss: 350.3796 - val_loss: 409.5692\n",
            "Epoch 34/100\n",
            "1/1 - 0s - 57ms/step - loss: 347.0549 - val_loss: 406.0415\n",
            "Epoch 35/100\n",
            "1/1 - 0s - 49ms/step - loss: 343.7824 - val_loss: 402.5686\n",
            "Epoch 36/100\n",
            "1/1 - 0s - 61ms/step - loss: 340.5617 - val_loss: 399.1504\n",
            "Epoch 37/100\n",
            "1/1 - 0s - 52ms/step - loss: 337.3927 - val_loss: 395.7864\n",
            "Epoch 38/100\n",
            "1/1 - 0s - 57ms/step - loss: 334.2750 - val_loss: 392.4763\n",
            "Epoch 39/100\n",
            "1/1 - 0s - 49ms/step - loss: 331.2082 - val_loss: 389.2198\n",
            "Epoch 40/100\n",
            "1/1 - 0s - 59ms/step - loss: 328.1920 - val_loss: 386.0164\n",
            "Epoch 41/100\n",
            "1/1 - 0s - 62ms/step - loss: 325.2262 - val_loss: 382.8659\n",
            "Epoch 42/100\n",
            "1/1 - 0s - 57ms/step - loss: 322.3102 - val_loss: 379.7677\n",
            "Epoch 43/100\n",
            "1/1 - 0s - 65ms/step - loss: 319.4436 - val_loss: 376.7215\n",
            "Epoch 44/100\n",
            "1/1 - 0s - 66ms/step - loss: 316.6262 - val_loss: 373.7268\n",
            "Epoch 45/100\n",
            "1/1 - 0s - 59ms/step - loss: 313.8574 - val_loss: 370.7833\n",
            "Epoch 46/100\n",
            "1/1 - 0s - 54ms/step - loss: 311.1369 - val_loss: 367.8904\n",
            "Epoch 47/100\n",
            "1/1 - 0s - 59ms/step - loss: 308.4641 - val_loss: 365.0475\n",
            "Epoch 48/100\n",
            "1/1 - 0s - 59ms/step - loss: 305.8387 - val_loss: 362.2544\n",
            "Epoch 49/100\n",
            "1/1 - 0s - 50ms/step - loss: 303.2602 - val_loss: 359.5105\n",
            "Epoch 50/100\n",
            "1/1 - 0s - 52ms/step - loss: 300.7280 - val_loss: 356.8152\n",
            "Epoch 51/100\n",
            "1/1 - 0s - 62ms/step - loss: 298.2418 - val_loss: 354.1681\n",
            "Epoch 52/100\n",
            "1/1 - 0s - 68ms/step - loss: 295.8009 - val_loss: 351.5686\n",
            "Epoch 53/100\n",
            "1/1 - 0s - 52ms/step - loss: 293.4050 - val_loss: 349.0161\n",
            "Epoch 54/100\n",
            "1/1 - 0s - 49ms/step - loss: 291.0535 - val_loss: 346.5104\n",
            "Epoch 55/100\n",
            "1/1 - 0s - 57ms/step - loss: 288.7459 - val_loss: 344.0506\n",
            "Epoch 56/100\n",
            "1/1 - 0s - 62ms/step - loss: 286.4817 - val_loss: 341.6364\n",
            "Epoch 57/100\n",
            "1/1 - 0s - 53ms/step - loss: 284.2603 - val_loss: 339.2671\n",
            "Epoch 58/100\n",
            "1/1 - 0s - 53ms/step - loss: 282.0813 - val_loss: 336.9422\n",
            "Epoch 59/100\n",
            "1/1 - 0s - 58ms/step - loss: 279.9442 - val_loss: 334.6612\n",
            "Epoch 60/100\n",
            "1/1 - 0s - 68ms/step - loss: 277.8483 - val_loss: 332.4236\n",
            "Epoch 61/100\n",
            "1/1 - 0s - 128ms/step - loss: 275.7932 - val_loss: 330.2285\n",
            "Epoch 62/100\n",
            "1/1 - 0s - 57ms/step - loss: 273.7783 - val_loss: 328.0758\n",
            "Epoch 63/100\n",
            "1/1 - 0s - 52ms/step - loss: 271.8031 - val_loss: 325.9647\n",
            "Epoch 64/100\n",
            "1/1 - 0s - 56ms/step - loss: 269.8671 - val_loss: 323.8947\n",
            "Epoch 65/100\n",
            "1/1 - 0s - 58ms/step - loss: 267.9698 - val_loss: 321.8651\n",
            "Epoch 66/100\n",
            "1/1 - 0s - 47ms/step - loss: 266.1104 - val_loss: 319.8755\n",
            "Epoch 67/100\n",
            "1/1 - 0s - 51ms/step - loss: 264.2887 - val_loss: 317.9253\n",
            "Epoch 68/100\n",
            "1/1 - 0s - 145ms/step - loss: 262.5039 - val_loss: 316.0139\n",
            "Epoch 69/100\n",
            "1/1 - 0s - 62ms/step - loss: 260.7556 - val_loss: 314.1407\n",
            "Epoch 70/100\n",
            "1/1 - 0s - 45ms/step - loss: 259.0432 - val_loss: 312.3053\n",
            "Epoch 71/100\n",
            "1/1 - 0s - 59ms/step - loss: 257.3662 - val_loss: 310.5069\n",
            "Epoch 72/100\n",
            "1/1 - 0s - 56ms/step - loss: 255.7241 - val_loss: 308.7452\n",
            "Epoch 73/100\n",
            "1/1 - 0s - 66ms/step - loss: 254.1163 - val_loss: 307.0195\n",
            "Epoch 74/100\n",
            "1/1 - 0s - 130ms/step - loss: 252.5424 - val_loss: 305.3292\n",
            "Epoch 75/100\n",
            "1/1 - 0s - 58ms/step - loss: 251.0017 - val_loss: 303.6738\n",
            "Epoch 76/100\n",
            "1/1 - 0s - 57ms/step - loss: 249.4937 - val_loss: 302.0529\n",
            "Epoch 77/100\n",
            "1/1 - 0s - 55ms/step - loss: 248.0179 - val_loss: 300.4657\n",
            "Epoch 78/100\n",
            "1/1 - 0s - 47ms/step - loss: 246.5739 - val_loss: 298.9118\n",
            "Epoch 79/100\n",
            "1/1 - 0s - 49ms/step - loss: 245.1609 - val_loss: 297.3906\n",
            "Epoch 80/100\n",
            "1/1 - 0s - 62ms/step - loss: 243.7787 - val_loss: 295.9016\n",
            "Epoch 81/100\n",
            "1/1 - 0s - 57ms/step - loss: 242.4266 - val_loss: 294.4442\n",
            "Epoch 82/100\n",
            "1/1 - 0s - 64ms/step - loss: 241.1041 - val_loss: 293.0180\n",
            "Epoch 83/100\n",
            "1/1 - 0s - 46ms/step - loss: 239.8107 - val_loss: 291.6223\n",
            "Epoch 84/100\n",
            "1/1 - 0s - 49ms/step - loss: 238.5460 - val_loss: 290.2568\n",
            "Epoch 85/100\n",
            "1/1 - 0s - 46ms/step - loss: 237.3093 - val_loss: 288.9207\n",
            "Epoch 86/100\n",
            "1/1 - 0s - 58ms/step - loss: 236.1003 - val_loss: 287.6137\n",
            "Epoch 87/100\n",
            "1/1 - 0s - 50ms/step - loss: 234.9183 - val_loss: 286.3351\n",
            "Epoch 88/100\n",
            "1/1 - 0s - 48ms/step - loss: 233.7630 - val_loss: 285.0846\n",
            "Epoch 89/100\n",
            "1/1 - 0s - 56ms/step - loss: 232.6338 - val_loss: 283.8615\n",
            "Epoch 90/100\n",
            "1/1 - 0s - 62ms/step - loss: 231.5303 - val_loss: 282.6654\n",
            "Epoch 91/100\n",
            "1/1 - 0s - 64ms/step - loss: 230.4520 - val_loss: 281.4958\n",
            "Epoch 92/100\n",
            "1/1 - 0s - 56ms/step - loss: 229.3984 - val_loss: 280.3522\n",
            "Epoch 93/100\n",
            "1/1 - 0s - 46ms/step - loss: 228.3689 - val_loss: 279.2341\n",
            "Epoch 94/100\n",
            "1/1 - 0s - 45ms/step - loss: 227.3633 - val_loss: 278.1410\n",
            "Epoch 95/100\n",
            "1/1 - 0s - 60ms/step - loss: 226.3809 - val_loss: 277.0724\n",
            "Epoch 96/100\n",
            "1/1 - 0s - 78ms/step - loss: 225.4215 - val_loss: 276.0279\n",
            "Epoch 97/100\n",
            "1/1 - 0s - 49ms/step - loss: 224.4844 - val_loss: 275.0070\n",
            "Epoch 98/100\n",
            "1/1 - 0s - 59ms/step - loss: 223.5692 - val_loss: 274.0092\n",
            "Epoch 99/100\n",
            "1/1 - 0s - 67ms/step - loss: 222.6756 - val_loss: 273.0341\n",
            "Epoch 100/100\n",
            "1/1 - 0s - 131ms/step - loss: 221.8030 - val_loss: 272.0811\n"
          ]
        }
      ],
      "source": [
        "# Underfit Case\n",
        "Lambda = 0\n",
        "lr_rate = 0.005\n",
        "epoch = 100\n",
        "\n",
        "# building a linear stack of layers with the sequential model\n",
        "model = Sequential()\n",
        "model.add(Dense(1, input_shape=(1,), use_bias=True, kernel_regularizer=regularizers.l2(Lambda)))\n",
        "\n",
        "# compiling the sequential model\n",
        "sgd = optimizers.Adam(learning_rate=lr_rate) # Changed 'lr' to 'learning_rate'\n",
        "model.compile(loss='MSE', optimizer=sgd)\n",
        "\n",
        "# training the model and saving metrics in history\n",
        "history = model.fit(X_train, Y_train, epochs=epoch, validation_data=(X_val, Y_val), verbose = 2)"
      ]
    },
    {
      "cell_type": "markdown",
      "metadata": {
        "id": "CeCn6QJxm_w7"
      },
      "source": [
        "Let's do the prediction."
      ]
    },
    {
      "cell_type": "code",
      "execution_count": 9,
      "metadata": {
        "id": "rIp9_ReYm_w7",
        "outputId": "074571b8-ba23-4234-ca0f-505a08f10348",
        "colab": {
          "base_uri": "https://localhost:8080/"
        }
      },
      "outputs": [
        {
          "output_type": "stream",
          "name": "stdout",
          "text": [
            "\u001b[1m1/1\u001b[0m \u001b[32m━━━━━━━━━━━━━━━━━━━━\u001b[0m\u001b[37m\u001b[0m \u001b[1m0s\u001b[0m 36ms/step\n"
          ]
        }
      ],
      "source": [
        "################### CODE HERE ########################\n",
        "# Implement the prediction step.\n",
        "# Use the predict() function of the model\n",
        "\n",
        "Y_pred = model.predict(X_test)\n",
        "\n",
        "######################################################"
      ]
    },
    {
      "cell_type": "markdown",
      "metadata": {
        "id": "L465LuFKm_w7"
      },
      "source": [
        "Plot the result."
      ]
    },
    {
      "cell_type": "code",
      "execution_count": 10,
      "metadata": {
        "id": "GFXFIS47m_w8",
        "outputId": "85ae87eb-bace-4336-b4c1-9d2717625380",
        "colab": {
          "base_uri": "https://localhost:8080/",
          "height": 472
        }
      },
      "outputs": [
        {
          "output_type": "display_data",
          "data": {
            "text/plain": [
              "<Figure size 640x480 with 1 Axes>"
            ],
            "image/png": "[encoded data removed]"
          },
          "metadata": {}
        }
      ],
      "source": [
        "plt.plot(X_train,Y_train,'x')   # adatok megjelenítése\n",
        "plt.plot(X_test,Y_pred,'x', color='red')   # adatok megjelenítése\n",
        "plt.title('Training data')\n",
        "plt.xlabel('Change in water level (X)')\n",
        "plt.ylabel('Water floeing out of the dam (Y)')\n",
        "plt.legend(['Training data', 'Prediction (on Test data)'])\n",
        "plt.show()"
      ]
    },
    {
      "cell_type": "markdown",
      "metadata": {
        "id": "_PWnRPqZm_w8"
      },
      "source": [
        "In line with our expectations and our simple model design, we obtained a linear estimate that does not seem to adequately capture our data. Using the built-in metrics, we can examine the running of the cost function on the training and validation data. To do this, we first plot the corresponding metrics."
      ]
    },
    {
      "cell_type": "code",
      "execution_count": 11,
      "metadata": {
        "id": "xYJUDO5im_w8",
        "outputId": "49fba5b6-bac5-4ec4-b8ad-cc695fa82a5c",
        "colab": {
          "base_uri": "https://localhost:8080/",
          "height": 489
        }
      },
      "outputs": [
        {
          "output_type": "execute_result",
          "data": {
            "text/plain": [
              "<matplotlib.legend.Legend at 0x7d32d4e52680>"
            ]
          },
          "metadata": {},
          "execution_count": 11
        },
        {
          "output_type": "display_data",
          "data": {
            "text/plain": [
              "<Figure size 640x480 with 1 Axes>"
            ],
            "image/png": "[encoded data removed]"
          },
          "metadata": {}
        }
      ],
      "source": [
        "# plotting the metrics\n",
        "fig = plt.figure()\n",
        "plt.plot(history.history['loss'])\n",
        "plt.plot(history.history['val_loss'])\n",
        "plt.title('Loss functions')\n",
        "plt.ylabel('loss')\n",
        "plt.xlabel('epoch')\n",
        "plt.legend(['Training loss', 'Validation loss'])"
      ]
    },
    {
      "cell_type": "markdown",
      "metadata": {
        "id": "ZCLCtbgEm_w8"
      },
      "source": [
        "In the graph, we can observe that both the cost function of the training data and the cost function of the validation data remain high. Higher than one would expect from a well-functioning predictor.\n",
        "\n",
        "<img src=\"https://github.com/Fortuz/edu_Adaptive/blob/main/practices/assets/Lab08/Pics/L08_HighBias.png?raw=1\" width=\"600\">"
      ]
    },
    {
      "cell_type": "markdown",
      "metadata": {
        "id": "KgHkzNPPm_w8"
      },
      "source": [
        "So let's change our model to get a better result."
      ]
    },
    {
      "cell_type": "markdown",
      "metadata": {
        "id": "rIHtrAOSm_w8"
      },
      "source": [
        "### 4: Poly Feature"
      ]
    },
    {
      "cell_type": "markdown",
      "metadata": {
        "id": "s5FiMEHem_w8"
      },
      "source": [
        "To get a better result, we need more input parameters. One possible way to generate more parameters is to take the polynomial coefficients of the available parameter and feed them into your neural network as additional parameters.\n",
        "\n",
        "Write a function that takes as input the matrix of actual samples and enriches it with the appropriate columns up to the desired exponent. $x => x, x^2, x^3 ... x^p$"
      ]
    },
    {
      "cell_type": "code",
      "execution_count": 12,
      "metadata": {
        "id": "I-vzvao6m_w8"
      },
      "outputs": [],
      "source": [
        "def polyFeatures(X, p=9):\n",
        "    \"\"\"\n",
        "    Extends the feature matrix with polynomial features up to a given order.\n",
        "\n",
        "    Args:\n",
        "        X: The input feature matrix (m x 1).\n",
        "        p: The desired order of the polynomial features.\n",
        "\n",
        "    Returns:\n",
        "        X_poly: The extended feature matrix (m x p).\n",
        "    \"\"\"\n",
        "    X_poly = X.copy()  # Initialize X_poly with the original data\n",
        "    for i in range(2, p + 1):  # Loop from 2 to p (inclusive)\n",
        "        X_poly = np.concatenate((X_poly, np.power(X, i)), axis=1)  # Add polynomial features\n",
        "    return X_poly"
      ]
    },
    {
      "cell_type": "markdown",
      "metadata": {
        "id": "UyuZFlvAm_w8"
      },
      "source": [
        "Do not forget to lower the values, otherwise the high exponent members would distort the learning very much. Write a normalization function that takes a sample matrix as input and returns the means and variances as a vector in addition to the normalized matrix."
      ]
    },
    {
      "cell_type": "code",
      "execution_count": 13,
      "metadata": {
        "id": "J_XTWUUGm_w8"
      },
      "outputs": [],
      "source": [
        "def featureNormalize(X):\n",
        "    ################### CODE HERE ########################\n",
        "    # Normalize the features of the input data.\n",
        "    # Each features has different normalization values.\n",
        "    avg = np.mean(X, axis=0) # Calculate the mean of each column (feature)\n",
        "    std = np.std(X, axis=0) # Calculate the standard deviation of each column (feature)\n",
        "    X_norm = (X - avg) / std # Normalize the data by subtracting the mean and dividing by the standard deviation\n",
        "\n",
        "\n",
        "\n",
        "\n",
        "\n",
        "\n",
        "    ######################################################\n",
        "    return X_norm,avg,std"
      ]
    },
    {
      "cell_type": "markdown",
      "metadata": {
        "id": "VLhLHXH_m_w8"
      },
      "source": [
        "Perform both the polynomial variable enrichment and the normalization.\n",
        "\n",
        "$\\color{red}{Warning!}$\n",
        "\n",
        "You should be aware of that during training you only want to use information from the training data set. This means that we should also normalise the test and validation data using the mean and standard deviation calculated from the training data. Otherwise, we would leak data back to the algorithm that could distort the learning result. The validation and test datasets thus remain truly independent and the algorithm can only work with the information obtained from the training data."
      ]
    },
    {
      "cell_type": "code",
      "execution_count": 14,
      "metadata": {
        "id": "cO3s2_WVm_w8",
        "outputId": "208d698c-9002-47b0-b783-d92daf0e813a",
        "colab": {
          "base_uri": "https://localhost:8080/"
        }
      },
      "outputs": [
        {
          "output_type": "stream",
          "name": "stdout",
          "text": [
            "Expected Normalized Training Example for order=3 (approx.):\n",
            "[-0.362 -0.755  0.182 ]\n",
            "Normalized Training Example 1:\n",
            " [-0.3782437  -0.78866232  0.19032872 -0.7375913   0.32025197 -0.6171516\n",
            "  0.35983501 -0.53109126  0.37553696]\n"
          ]
        }
      ],
      "source": [
        "order=9\n",
        "\n",
        "# Training data\n",
        "X_train_p = polyFeatures(X_train, order)                                # polynomial features\n",
        "X_train_pn, mu, sigma = featureNormalize(X_train_p)                     # feature normalization\n",
        "\n",
        "################### CODE HERE ########################\n",
        "# Perform the feature extension and normalization for the remaining data sets as well\n",
        "\n",
        "# Validation data\n",
        "X_val_p = polyFeatures(X_val, order)                                   # polynomial features for validation data\n",
        "X_val_pn = (X_val_p - mu) / sigma                                      # normalize using training data's mu and sigma\n",
        "\n",
        "# Test data\n",
        "X_test_p = polyFeatures(X_test, order)                                  # polynomial features for test data\n",
        "X_test_pn = (X_test_p - mu) / sigma\n",
        "\n",
        "\n",
        "######################################################\n",
        "\n",
        "print(\"\"\"Expected Normalized Training Example for order=3 (approx.):\n",
        "[-0.362 -0.755  0.182 ]\"\"\")\n",
        "print('Normalized Training Example 1:\\n',X_train_pn[0,:])"
      ]
    },
    {
      "cell_type": "markdown",
      "metadata": {
        "id": "Ta7q_cFom_w8"
      },
      "source": [
        "Set the parameters."
      ]
    },
    {
      "cell_type": "code",
      "execution_count": 16,
      "metadata": {
        "id": "JdSAJxrkm_w8"
      },
      "outputs": [],
      "source": [
        "# Just Right Case\n",
        "Lambda = 0\n",
        "lr_rate = 0.01\n",
        "epoch = 100\n",
        "optim = optimizers.SGD(learning_rate=lr_rate) # Changed 'lr' to 'learning_rate'\n"
      ]
    },
    {
      "cell_type": "markdown",
      "metadata": {
        "id": "kJrfKM0Jm_w9"
      },
      "source": [
        "Since we have increased the number of variables, we need to modify our model. The input layer should fit the size of our increased input matrix, but we still only want one output."
      ]
    },
    {
      "cell_type": "code",
      "execution_count": 17,
      "metadata": {
        "id": "T7f83rdEm_w9",
        "outputId": "c9c5de1f-e1da-4119-c973-383c002f3a30",
        "colab": {
          "base_uri": "https://localhost:8080/"
        }
      },
      "outputs": [
        {
          "output_type": "stream",
          "name": "stderr",
          "text": [
            "/usr/local/lib/python3.10/dist-packages/keras/src/layers/core/dense.py:87: UserWarning: Do not pass an `input_shape`/`input_dim` argument to a layer. When using Sequential models, prefer using an `Input(shape)` object as the first layer in the model instead.\n",
            "  super().__init__(activity_regularizer=activity_regularizer, **kwargs)\n"
          ]
        }
      ],
      "source": [
        "# Building a linear stack of layers with the sequential model\n",
        "model2 = Sequential()\n",
        "\n",
        "################### CODE HERE ########################\n",
        "# Build a 2 layer Neural Network matching the input shape of the data and producing 1 output.\n",
        "# Use BIAS and L2 regularization.\n",
        "model2.add(Dense(units=128,  # Number of neurons in the first hidden layer\n",
        "                activation='relu',  # Activation function for the first hidden layer\n",
        "                input_shape=(X_train_pn.shape[1],),  # Input shape based on your data\n",
        "                use_bias=True,  # Include bias term\n",
        "                kernel_regularizer=regularizers.l2(Lambda)))  # Apply L2 regularization\n",
        "model2.add(Dense(1,  # Number of neurons in the output layer (1 for regression)\n",
        "                activation='linear',  # Linear activation for regression output\n",
        "                use_bias=True)) # Include bias term\n",
        "\n",
        "\n",
        "\n",
        "\n",
        "######################################################"
      ]
    },
    {
      "cell_type": "markdown",
      "metadata": {
        "id": "ETw_xA8Vm_w9"
      },
      "source": [
        "After the architecture of the model is established, the model is compiled and the cost function and the optimizer are defined. Again, there are several options to choose from, such as SGD or ADAM."
      ]
    },
    {
      "cell_type": "code",
      "execution_count": 19,
      "metadata": {
        "id": "nWLa6D6Zm_w9",
        "outputId": "339da4e5-2372-4c23-8957-258bc5d00bed",
        "colab": {
          "base_uri": "https://localhost:8080/"
        }
      },
      "outputs": [
        {
          "output_type": "stream",
          "name": "stdout",
          "text": [
            "Epoch 1/100\n",
            "1/1 - 2s - 2s/step - loss: 280.6698 - val_loss: 310.2612\n",
            "Epoch 2/100\n",
            "1/1 - 0s - 51ms/step - loss: 266.4618 - val_loss: 293.5654\n",
            "Epoch 3/100\n",
            "1/1 - 0s - 50ms/step - loss: 253.3978 - val_loss: 277.9308\n",
            "Epoch 4/100\n",
            "1/1 - 0s - 46ms/step - loss: 241.2872 - val_loss: 263.4431\n",
            "Epoch 5/100\n",
            "1/1 - 0s - 49ms/step - loss: 229.9468 - val_loss: 249.4805\n",
            "Epoch 6/100\n",
            "1/1 - 0s - 58ms/step - loss: 218.8881 - val_loss: 235.5474\n",
            "Epoch 7/100\n",
            "1/1 - 0s - 46ms/step - loss: 207.5846 - val_loss: 221.3783\n",
            "Epoch 8/100\n",
            "1/1 - 0s - 47ms/step - loss: 195.8720 - val_loss: 206.9222\n",
            "Epoch 9/100\n",
            "1/1 - 0s - 49ms/step - loss: 183.7708 - val_loss: 192.2048\n",
            "Epoch 10/100\n",
            "1/1 - 0s - 61ms/step - loss: 171.4718 - val_loss: 177.1493\n",
            "Epoch 11/100\n",
            "1/1 - 0s - 53ms/step - loss: 158.8937 - val_loss: 161.8729\n",
            "Epoch 12/100\n",
            "1/1 - 0s - 59ms/step - loss: 146.1293 - val_loss: 146.3912\n",
            "Epoch 13/100\n",
            "1/1 - 0s - 48ms/step - loss: 133.2604 - val_loss: 130.7886\n",
            "Epoch 14/100\n",
            "1/1 - 0s - 59ms/step - loss: 120.4166 - val_loss: 115.2284\n",
            "Epoch 15/100\n",
            "1/1 - 0s - 47ms/step - loss: 107.7102 - val_loss: 99.8560\n",
            "Epoch 16/100\n",
            "1/1 - 0s - 48ms/step - loss: 95.2970 - val_loss: 84.9644\n",
            "Epoch 17/100\n",
            "1/1 - 0s - 67ms/step - loss: 83.3069 - val_loss: 70.8324\n",
            "Epoch 18/100\n",
            "1/1 - 0s - 59ms/step - loss: 71.9166 - val_loss: 57.7370\n",
            "Epoch 19/100\n",
            "1/1 - 0s - 49ms/step - loss: 61.3387 - val_loss: 45.8664\n",
            "Epoch 20/100\n",
            "1/1 - 0s - 48ms/step - loss: 51.7224 - val_loss: 35.5167\n",
            "Epoch 21/100\n",
            "1/1 - 0s - 63ms/step - loss: 43.2015 - val_loss: 26.8656\n",
            "Epoch 22/100\n",
            "1/1 - 0s - 154ms/step - loss: 35.8345 - val_loss: 20.0459\n",
            "Epoch 23/100\n",
            "1/1 - 0s - 118ms/step - loss: 29.6429 - val_loss: 15.2292\n",
            "Epoch 24/100\n",
            "1/1 - 0s - 147ms/step - loss: 24.6052 - val_loss: 12.4848\n",
            "Epoch 25/100\n",
            "1/1 - 0s - 109ms/step - loss: 20.6545 - val_loss: 11.7457\n",
            "Epoch 26/100\n",
            "1/1 - 0s - 139ms/step - loss: 17.6793 - val_loss: 12.8042\n",
            "Epoch 27/100\n",
            "1/1 - 0s - 118ms/step - loss: 15.5090 - val_loss: 15.3640\n",
            "Epoch 28/100\n",
            "1/1 - 0s - 88ms/step - loss: 13.9631 - val_loss: 19.0563\n",
            "Epoch 29/100\n",
            "1/1 - 0s - 138ms/step - loss: 12.8735 - val_loss: 23.4896\n",
            "Epoch 30/100\n",
            "1/1 - 0s - 131ms/step - loss: 12.0755 - val_loss: 28.3060\n",
            "Epoch 31/100\n",
            "1/1 - 0s - 144ms/step - loss: 11.4717 - val_loss: 33.1828\n",
            "Epoch 32/100\n",
            "1/1 - 0s - 129ms/step - loss: 10.9897 - val_loss: 37.8432\n",
            "Epoch 33/100\n",
            "1/1 - 0s - 91ms/step - loss: 10.6022 - val_loss: 42.0687\n",
            "Epoch 34/100\n",
            "1/1 - 0s - 135ms/step - loss: 10.3171 - val_loss: 45.6978\n",
            "Epoch 35/100\n",
            "1/1 - 0s - 117ms/step - loss: 10.1335 - val_loss: 48.6115\n",
            "Epoch 36/100\n",
            "1/1 - 0s - 162ms/step - loss: 10.0561 - val_loss: 50.7213\n",
            "Epoch 37/100\n",
            "1/1 - 0s - 69ms/step - loss: 10.0610 - val_loss: 51.9712\n",
            "Epoch 38/100\n",
            "1/1 - 0s - 152ms/step - loss: 10.1287 - val_loss: 52.3027\n",
            "Epoch 39/100\n",
            "1/1 - 0s - 77ms/step - loss: 10.2121 - val_loss: 51.7316\n",
            "Epoch 40/100\n",
            "1/1 - 0s - 91ms/step - loss: 10.2588 - val_loss: 50.3083\n",
            "Epoch 41/100\n",
            "1/1 - 0s - 110ms/step - loss: 10.2162 - val_loss: 48.2131\n",
            "Epoch 42/100\n",
            "1/1 - 0s - 47ms/step - loss: 10.0557 - val_loss: 45.5450\n",
            "Epoch 43/100\n",
            "1/1 - 0s - 46ms/step - loss: 9.7588 - val_loss: 42.4579\n",
            "Epoch 44/100\n",
            "1/1 - 0s - 45ms/step - loss: 9.3299 - val_loss: 39.1659\n",
            "Epoch 45/100\n",
            "1/1 - 0s - 60ms/step - loss: 8.7903 - val_loss: 35.7325\n",
            "Epoch 46/100\n",
            "1/1 - 0s - 59ms/step - loss: 8.1742 - val_loss: 32.3577\n",
            "Epoch 47/100\n",
            "1/1 - 0s - 57ms/step - loss: 7.5236 - val_loss: 29.1885\n",
            "Epoch 48/100\n",
            "1/1 - 0s - 64ms/step - loss: 6.8801 - val_loss: 26.2725\n",
            "Epoch 49/100\n",
            "1/1 - 0s - 48ms/step - loss: 6.2855 - val_loss: 23.6588\n",
            "Epoch 50/100\n",
            "1/1 - 0s - 60ms/step - loss: 5.7762 - val_loss: 21.3847\n",
            "Epoch 51/100\n",
            "1/1 - 0s - 50ms/step - loss: 5.3835 - val_loss: 19.4404\n",
            "Epoch 52/100\n",
            "1/1 - 0s - 49ms/step - loss: 5.1194 - val_loss: 17.8045\n",
            "Epoch 53/100\n",
            "1/1 - 0s - 48ms/step - loss: 4.9797 - val_loss: 16.4423\n",
            "Epoch 54/100\n",
            "1/1 - 0s - 47ms/step - loss: 4.9459 - val_loss: 15.3115\n",
            "Epoch 55/100\n",
            "1/1 - 0s - 58ms/step - loss: 4.9874 - val_loss: 14.3715\n",
            "Epoch 56/100\n",
            "1/1 - 0s - 47ms/step - loss: 5.0644 - val_loss: 13.5901\n",
            "Epoch 57/100\n",
            "1/1 - 0s - 60ms/step - loss: 5.1438 - val_loss: 12.9427\n",
            "Epoch 58/100\n",
            "1/1 - 0s - 60ms/step - loss: 5.1987 - val_loss: 12.4104\n",
            "Epoch 59/100\n",
            "1/1 - 0s - 52ms/step - loss: 5.2120 - val_loss: 11.9782\n",
            "Epoch 60/100\n",
            "1/1 - 0s - 66ms/step - loss: 5.1765 - val_loss: 11.6336\n",
            "Epoch 61/100\n",
            "1/1 - 0s - 47ms/step - loss: 5.0951 - val_loss: 11.3652\n",
            "Epoch 62/100\n",
            "1/1 - 0s - 48ms/step - loss: 4.9776 - val_loss: 11.1625\n",
            "Epoch 63/100\n",
            "1/1 - 0s - 59ms/step - loss: 4.8364 - val_loss: 11.0199\n",
            "Epoch 64/100\n",
            "1/1 - 0s - 59ms/step - loss: 4.6838 - val_loss: 10.9386\n",
            "Epoch 65/100\n",
            "1/1 - 0s - 48ms/step - loss: 4.5315 - val_loss: 10.9257\n",
            "Epoch 66/100\n",
            "1/1 - 0s - 64ms/step - loss: 4.3882 - val_loss: 10.9890\n",
            "Epoch 67/100\n",
            "1/1 - 0s - 61ms/step - loss: 4.2592 - val_loss: 11.1315\n",
            "Epoch 68/100\n",
            "1/1 - 0s - 50ms/step - loss: 4.1455 - val_loss: 11.3471\n",
            "Epoch 69/100\n",
            "1/1 - 0s - 58ms/step - loss: 4.0467 - val_loss: 11.6204\n",
            "Epoch 70/100\n",
            "1/1 - 0s - 47ms/step - loss: 3.9585 - val_loss: 11.9280\n",
            "Epoch 71/100\n",
            "1/1 - 0s - 47ms/step - loss: 3.8778 - val_loss: 12.2438\n",
            "Epoch 72/100\n",
            "1/1 - 0s - 58ms/step - loss: 3.8018 - val_loss: 12.5435\n",
            "Epoch 73/100\n",
            "1/1 - 0s - 61ms/step - loss: 3.7290 - val_loss: 12.8095\n",
            "Epoch 74/100\n",
            "1/1 - 0s - 61ms/step - loss: 3.6588 - val_loss: 13.0335\n",
            "Epoch 75/100\n",
            "1/1 - 0s - 62ms/step - loss: 3.5922 - val_loss: 13.2142\n",
            "Epoch 76/100\n",
            "1/1 - 0s - 54ms/step - loss: 3.5303 - val_loss: 13.3504\n",
            "Epoch 77/100\n",
            "1/1 - 0s - 49ms/step - loss: 3.4730 - val_loss: 13.4357\n",
            "Epoch 78/100\n",
            "1/1 - 0s - 47ms/step - loss: 3.4196 - val_loss: 13.4598\n",
            "Epoch 79/100\n",
            "1/1 - 0s - 60ms/step - loss: 3.3684 - val_loss: 13.4096\n",
            "Epoch 80/100\n",
            "1/1 - 0s - 47ms/step - loss: 3.3177 - val_loss: 13.2746\n",
            "Epoch 81/100\n",
            "1/1 - 0s - 48ms/step - loss: 3.2649 - val_loss: 13.0526\n",
            "Epoch 82/100\n",
            "1/1 - 0s - 59ms/step - loss: 3.2077 - val_loss: 12.7541\n",
            "Epoch 83/100\n",
            "1/1 - 0s - 62ms/step - loss: 3.1454 - val_loss: 12.3999\n",
            "Epoch 84/100\n",
            "1/1 - 0s - 53ms/step - loss: 3.0783 - val_loss: 12.0148\n",
            "Epoch 85/100\n",
            "1/1 - 0s - 49ms/step - loss: 3.0077 - val_loss: 11.6205\n",
            "Epoch 86/100\n",
            "1/1 - 0s - 47ms/step - loss: 2.9357 - val_loss: 11.2321\n",
            "Epoch 87/100\n",
            "1/1 - 0s - 59ms/step - loss: 2.8646 - val_loss: 10.8592\n",
            "Epoch 88/100\n",
            "1/1 - 0s - 59ms/step - loss: 2.7967 - val_loss: 10.5047\n",
            "Epoch 89/100\n",
            "1/1 - 0s - 46ms/step - loss: 2.7333 - val_loss: 10.1748\n",
            "Epoch 90/100\n",
            "1/1 - 0s - 54ms/step - loss: 2.6748 - val_loss: 9.8793\n",
            "Epoch 91/100\n",
            "1/1 - 0s - 135ms/step - loss: 2.6208 - val_loss: 9.6288\n",
            "Epoch 92/100\n",
            "1/1 - 0s - 47ms/step - loss: 2.5702 - val_loss: 9.4286\n",
            "Epoch 93/100\n",
            "1/1 - 0s - 52ms/step - loss: 2.5216 - val_loss: 9.2773\n",
            "Epoch 94/100\n",
            "1/1 - 0s - 48ms/step - loss: 2.4734 - val_loss: 9.1678\n",
            "Epoch 95/100\n",
            "1/1 - 0s - 59ms/step - loss: 2.4247 - val_loss: 9.0910\n",
            "Epoch 96/100\n",
            "1/1 - 0s - 49ms/step - loss: 2.3749 - val_loss: 9.0402\n",
            "Epoch 97/100\n",
            "1/1 - 0s - 57ms/step - loss: 2.3243 - val_loss: 9.0129\n",
            "Epoch 98/100\n",
            "1/1 - 0s - 47ms/step - loss: 2.2738 - val_loss: 9.0106\n",
            "Epoch 99/100\n",
            "1/1 - 0s - 47ms/step - loss: 2.2236 - val_loss: 9.0343\n",
            "Epoch 100/100\n",
            "1/1 - 0s - 60ms/step - loss: 2.1738 - val_loss: 9.0821\n"
          ]
        }
      ],
      "source": [
        "# Compiling the sequential model\n",
        "# optim = optimizers.SGD(lr=lr_rate)\n",
        "optim = optimizers.Adam(learning_rate=lr_rate) # Changed 'lr' to 'learning_rate'\n",
        "model2.compile(loss='MSE', optimizer=optim)\n",
        "\n",
        "\n",
        "# Training the model and saving metrics in history\n",
        "history2 = model2.fit(X_train_pn, Y_train, epochs=epoch, validation_data=(X_val_pn, Y_val), verbose = 2)"
      ]
    },
    {
      "cell_type": "markdown",
      "metadata": {
        "id": "nT6DpMoIm_w9"
      },
      "source": [
        "After training the model, we make this prediction on our test data."
      ]
    },
    {
      "cell_type": "code",
      "execution_count": 20,
      "metadata": {
        "id": "yZM_BUbpm_w9",
        "outputId": "f18caeeb-1ee2-493e-c0fd-b8bdb8eb5073",
        "colab": {
          "base_uri": "https://localhost:8080/"
        }
      },
      "outputs": [
        {
          "output_type": "stream",
          "name": "stdout",
          "text": [
            "\u001b[1m1/1\u001b[0m \u001b[32m━━━━━━━━━━━━━━━━━━━━\u001b[0m\u001b[37m\u001b[0m \u001b[1m0s\u001b[0m 131ms/step\n"
          ]
        }
      ],
      "source": [
        "################### CODE HERE ########################\n",
        "# Calculate the predictions using the recently trained model.\n",
        "\n",
        "Y_pred2 = model2.predict(X_test_pn)\n",
        "# Use the predict method of the model and provide the normalized test data as input\n",
        "\n",
        "\n",
        "######################################################"
      ]
    },
    {
      "cell_type": "markdown",
      "metadata": {
        "id": "y3tUIKX0m_xA"
      },
      "source": [
        "Let's plot the result of the prediction."
      ]
    },
    {
      "cell_type": "code",
      "execution_count": 21,
      "metadata": {
        "id": "9IKds2p0m_xA",
        "outputId": "0dfe6fa1-c22b-4e41-ee6a-c7035b290856",
        "colab": {
          "base_uri": "https://localhost:8080/",
          "height": 472
        }
      },
      "outputs": [
        {
          "output_type": "display_data",
          "data": {
            "text/plain": [
              "<Figure size 640x480 with 1 Axes>"
            ],
            "image/png": "[encoded data removed]"
          },
          "metadata": {}
        }
      ],
      "source": [
        "plt.plot(X_test,Y_pred2,'x', color=\"red\")\n",
        "plt.plot(X_test,Y_test,'x', color=\"green\")\n",
        "plt.title('Training data')\n",
        "plt.xlabel('Change in water level (X)')\n",
        "plt.ylabel('Water floeing out of the dam (Y)')\n",
        "plt.legend(['Prediction', 'Test'])\n",
        "plt.show()"
      ]
    },
    {
      "cell_type": "markdown",
      "metadata": {
        "id": "84lxEaihm_xA"
      },
      "source": [
        "You can see that the extended model gives a much better result, which fits our data much better. The result is also reflected in the metrics."
      ]
    },
    {
      "cell_type": "code",
      "execution_count": 22,
      "metadata": {
        "id": "3HGj8neSm_xA",
        "outputId": "f50ab356-5455-4f88-e2e9-c6a415de526e",
        "colab": {
          "base_uri": "https://localhost:8080/",
          "height": 489
        }
      },
      "outputs": [
        {
          "output_type": "execute_result",
          "data": {
            "text/plain": [
              "<matplotlib.legend.Legend at 0x7d32d409d3f0>"
            ]
          },
          "metadata": {},
          "execution_count": 22
        },
        {
          "output_type": "display_data",
          "data": {
            "text/plain": [
              "<Figure size 640x480 with 1 Axes>"
            ],
            "image/png": "[encoded data removed]"
          },
          "metadata": {}
        }
      ],
      "source": [
        "# plotting the metrics\n",
        "fig = plt.figure()\n",
        "plt.plot(history2.history['loss'])\n",
        "plt.plot(history2.history['val_loss'])\n",
        "plt.title('Loss functions')\n",
        "plt.ylabel('loss')\n",
        "plt.xlabel('epoch')\n",
        "plt.legend(['Train loss', 'Validation loss'])"
      ]
    },
    {
      "cell_type": "markdown",
      "metadata": {
        "id": "4CUtXNnqm_xA"
      },
      "source": [
        "Both the cost function of our training data and the cost function of our validation data were significantly lower than in our first attempt.\n",
        "\n",
        "<img src=\"https://github.com/Fortuz/edu_Adaptive/blob/main/practices/assets/Lab08/Pics/L08_HighBias.png?raw=1\" width=\"600\">"
      ]
    },
    {
      "cell_type": "markdown",
      "metadata": {
        "id": "OfJjrTnKm_xA"
      },
      "source": [
        "You can extend your model further and tune the hyperparameters, but be careful not to fall into the trap of over-learning, as in the model below.\n",
        "\n",
        "In our case, we chose too many input parameters and ran the learning that way."
      ]
    },
    {
      "cell_type": "code",
      "execution_count": 24,
      "metadata": {
        "id": "3qFgojEIm_xA"
      },
      "outputs": [],
      "source": [
        "#Overfit\n",
        "Lambda = 0\n",
        "lr_rate = 0.001\n",
        "epoch = 100\n",
        "order=12\n",
        "# optim = optimizers.Adam(lr=lr_rate) # Replace 'lr' with 'learning_rate'\n",
        "optim = optimizers.Adam(learning_rate=lr_rate) # This line is changed"
      ]
    },
    {
      "cell_type": "code",
      "execution_count": 25,
      "metadata": {
        "id": "qaEd3wR-m_xA"
      },
      "outputs": [],
      "source": [
        "# Train\n",
        "X_train_p = polyFeatures(X_train, order)                                # polynomial features\n",
        "X_train_pn, mu, sigma = featureNormalize(X_train_p)                     # feature normalization\n",
        "\n",
        "# Validation\n",
        "X_val_p = polyFeatures(X_val, order)\n",
        "X_val_pn = (X_val_p-mu)/sigma\n",
        "\n",
        "# Teszt\n",
        "X_test_p = polyFeatures(X_test, order)\n",
        "X_test_pn = (X_test_p-mu)/sigma"
      ]
    },
    {
      "cell_type": "code",
      "execution_count": 26,
      "metadata": {
        "id": "rLLQwcUQm_xB",
        "outputId": "66ea5d94-a21a-455a-d6a9-6c5ef1038911",
        "colab": {
          "base_uri": "https://localhost:8080/"
        }
      },
      "outputs": [
        {
          "output_type": "stream",
          "name": "stderr",
          "text": [
            "/usr/local/lib/python3.10/dist-packages/keras/src/layers/core/dense.py:87: UserWarning: Do not pass an `input_shape`/`input_dim` argument to a layer. When using Sequential models, prefer using an `Input(shape)` object as the first layer in the model instead.\n",
            "  super().__init__(activity_regularizer=activity_regularizer, **kwargs)\n"
          ]
        }
      ],
      "source": [
        "# Building a linear stack of layers with the sequential model\n",
        "model3 = Sequential()\n",
        "model3.add(Dense(order, input_shape=(order,), use_bias=True, kernel_regularizer=regularizers.l2(Lambda)))\n",
        "model3.add(Dense(1))"
      ]
    },
    {
      "cell_type": "code",
      "execution_count": 29,
      "metadata": {
        "id": "ocJLISUvm_xB",
        "outputId": "61de593e-e6b3-41ea-91b2-417d2e3e3772",
        "colab": {
          "base_uri": "https://localhost:8080/"
        }
      },
      "outputs": [
        {
          "output_type": "stream",
          "name": "stdout",
          "text": [
            "Epoch 1/100\n",
            "1/1 - 1s - 697ms/step - loss: 298.3863 - val_loss: 329.4503\n",
            "Epoch 2/100\n",
            "1/1 - 0s - 165ms/step - loss: 291.4900 - val_loss: 322.6862\n",
            "Epoch 3/100\n",
            "1/1 - 0s - 204ms/step - loss: 285.2749 - val_loss: 316.4597\n",
            "Epoch 4/100\n",
            "1/1 - 0s - 51ms/step - loss: 279.5895 - val_loss: 310.6452\n",
            "Epoch 5/100\n",
            "1/1 - 0s - 59ms/step - loss: 274.3191 - val_loss: 305.1460\n",
            "Epoch 6/100\n",
            "1/1 - 0s - 62ms/step - loss: 269.3755 - val_loss: 299.8866\n",
            "Epoch 7/100\n",
            "1/1 - 0s - 57ms/step - loss: 264.6895 - val_loss: 294.8073\n",
            "Epoch 8/100\n",
            "1/1 - 0s - 52ms/step - loss: 260.2063 - val_loss: 289.8600\n",
            "Epoch 9/100\n",
            "1/1 - 0s - 50ms/step - loss: 255.8822 - val_loss: 285.0061\n",
            "Epoch 10/100\n",
            "1/1 - 0s - 57ms/step - loss: 251.6811 - val_loss: 280.2134\n",
            "Epoch 11/100\n",
            "1/1 - 0s - 57ms/step - loss: 247.5738 - val_loss: 275.4556\n",
            "Epoch 12/100\n",
            "1/1 - 0s - 51ms/step - loss: 243.5359 - val_loss: 270.7106\n",
            "Epoch 13/100\n",
            "1/1 - 0s - 52ms/step - loss: 239.5468 - val_loss: 265.9597\n",
            "Epoch 14/100\n",
            "1/1 - 0s - 59ms/step - loss: 235.5892 - val_loss: 261.1873\n",
            "Epoch 15/100\n",
            "1/1 - 0s - 64ms/step - loss: 231.6483 - val_loss: 256.3800\n",
            "Epoch 16/100\n",
            "1/1 - 0s - 65ms/step - loss: 227.7114 - val_loss: 251.5264\n",
            "Epoch 17/100\n",
            "1/1 - 0s - 51ms/step - loss: 223.7675 - val_loss: 246.6169\n",
            "Epoch 18/100\n",
            "1/1 - 0s - 69ms/step - loss: 219.8069 - val_loss: 241.6432\n",
            "Epoch 19/100\n",
            "1/1 - 0s - 127ms/step - loss: 215.8214 - val_loss: 236.5987\n",
            "Epoch 20/100\n",
            "1/1 - 0s - 56ms/step - loss: 211.8034 - val_loss: 231.4778\n",
            "Epoch 21/100\n",
            "1/1 - 0s - 58ms/step - loss: 207.7467 - val_loss: 226.2761\n",
            "Epoch 22/100\n",
            "1/1 - 0s - 62ms/step - loss: 203.6458 - val_loss: 220.9905\n",
            "Epoch 23/100\n",
            "1/1 - 0s - 46ms/step - loss: 199.4959 - val_loss: 215.6189\n",
            "Epoch 24/100\n",
            "1/1 - 0s - 61ms/step - loss: 195.2932 - val_loss: 210.1606\n",
            "Epoch 25/100\n",
            "1/1 - 0s - 47ms/step - loss: 191.0345 - val_loss: 204.6158\n",
            "Epoch 26/100\n",
            "1/1 - 0s - 59ms/step - loss: 186.7176 - val_loss: 198.9861\n",
            "Epoch 27/100\n",
            "1/1 - 0s - 50ms/step - loss: 182.3409 - val_loss: 193.2742\n",
            "Epoch 28/100\n",
            "1/1 - 0s - 56ms/step - loss: 177.9037 - val_loss: 187.4843\n",
            "Epoch 29/100\n",
            "1/1 - 0s - 47ms/step - loss: 173.4061 - val_loss: 181.6217\n",
            "Epoch 30/100\n",
            "1/1 - 0s - 66ms/step - loss: 168.8492 - val_loss: 175.6930\n",
            "Epoch 31/100\n",
            "1/1 - 0s - 134ms/step - loss: 164.2350 - val_loss: 169.7065\n",
            "Epoch 32/100\n",
            "1/1 - 0s - 57ms/step - loss: 159.5661 - val_loss: 163.6714\n",
            "Epoch 33/100\n",
            "1/1 - 0s - 62ms/step - loss: 154.8466 - val_loss: 157.5985\n",
            "Epoch 34/100\n",
            "1/1 - 0s - 54ms/step - loss: 150.0810 - val_loss: 151.4998\n",
            "Epoch 35/100\n",
            "1/1 - 0s - 59ms/step - loss: 145.2751 - val_loss: 145.3886\n",
            "Epoch 36/100\n",
            "1/1 - 0s - 47ms/step - loss: 140.4354 - val_loss: 139.2793\n",
            "Epoch 37/100\n",
            "1/1 - 0s - 59ms/step - loss: 135.5694 - val_loss: 133.1872\n",
            "Epoch 38/100\n",
            "1/1 - 0s - 54ms/step - loss: 130.6855 - val_loss: 127.1289\n",
            "Epoch 39/100\n",
            "1/1 - 0s - 62ms/step - loss: 125.7927 - val_loss: 121.1213\n",
            "Epoch 40/100\n",
            "1/1 - 0s - 51ms/step - loss: 120.9010 - val_loss: 115.1821\n",
            "Epoch 41/100\n",
            "1/1 - 0s - 48ms/step - loss: 116.0206 - val_loss: 109.3294\n",
            "Epoch 42/100\n",
            "1/1 - 0s - 56ms/step - loss: 111.1626 - val_loss: 103.5813\n",
            "Epoch 43/100\n",
            "1/1 - 0s - 47ms/step - loss: 106.3383 - val_loss: 97.9558\n",
            "Epoch 44/100\n",
            "1/1 - 0s - 58ms/step - loss: 101.5593 - val_loss: 92.4709\n",
            "Epoch 45/100\n",
            "1/1 - 0s - 57ms/step - loss: 96.8372 - val_loss: 87.1435\n",
            "Epoch 46/100\n",
            "1/1 - 0s - 59ms/step - loss: 92.1838 - val_loss: 81.9900\n",
            "Epoch 47/100\n",
            "1/1 - 0s - 59ms/step - loss: 87.6105 - val_loss: 77.0257\n",
            "Epoch 48/100\n",
            "1/1 - 0s - 52ms/step - loss: 83.1285 - val_loss: 72.2646\n",
            "Epoch 49/100\n",
            "1/1 - 0s - 52ms/step - loss: 78.7485 - val_loss: 67.7191\n",
            "Epoch 50/100\n",
            "1/1 - 0s - 63ms/step - loss: 74.4806 - val_loss: 63.4002\n",
            "Epoch 51/100\n",
            "1/1 - 0s - 53ms/step - loss: 70.3341 - val_loss: 59.3167\n",
            "Epoch 52/100\n",
            "1/1 - 0s - 58ms/step - loss: 66.3175 - val_loss: 55.4760\n",
            "Epoch 53/100\n",
            "1/1 - 0s - 49ms/step - loss: 62.4384 - val_loss: 51.8830\n",
            "Epoch 54/100\n",
            "1/1 - 0s - 58ms/step - loss: 58.7033 - val_loss: 48.5411\n",
            "Epoch 55/100\n",
            "1/1 - 0s - 50ms/step - loss: 55.1176 - val_loss: 45.4512\n",
            "Epoch 56/100\n",
            "1/1 - 0s - 47ms/step - loss: 51.6858 - val_loss: 42.6127\n",
            "Epoch 57/100\n",
            "1/1 - 0s - 62ms/step - loss: 48.4110 - val_loss: 40.0228\n",
            "Epoch 58/100\n",
            "1/1 - 0s - 47ms/step - loss: 45.2953 - val_loss: 37.6769\n",
            "Epoch 59/100\n",
            "1/1 - 0s - 58ms/step - loss: 42.3398 - val_loss: 35.5690\n",
            "Epoch 60/100\n",
            "1/1 - 0s - 61ms/step - loss: 39.5442 - val_loss: 33.6915\n",
            "Epoch 61/100\n",
            "1/1 - 0s - 59ms/step - loss: 36.9076 - val_loss: 32.0353\n",
            "Epoch 62/100\n",
            "1/1 - 0s - 65ms/step - loss: 34.4278 - val_loss: 30.5904\n",
            "Epoch 63/100\n",
            "1/1 - 0s - 61ms/step - loss: 32.1020 - val_loss: 29.3458\n",
            "Epoch 64/100\n",
            "1/1 - 0s - 58ms/step - loss: 29.9265 - val_loss: 28.2897\n",
            "Epoch 65/100\n",
            "1/1 - 0s - 55ms/step - loss: 27.8969 - val_loss: 27.4098\n",
            "Epoch 66/100\n",
            "1/1 - 0s - 55ms/step - loss: 26.0083 - val_loss: 26.6934\n",
            "Epoch 67/100\n",
            "1/1 - 0s - 62ms/step - loss: 24.2553 - val_loss: 26.1276\n",
            "Epoch 68/100\n",
            "1/1 - 0s - 51ms/step - loss: 22.6320 - val_loss: 25.6995\n",
            "Epoch 69/100\n",
            "1/1 - 0s - 49ms/step - loss: 21.1323 - val_loss: 25.3965\n",
            "Epoch 70/100\n",
            "1/1 - 0s - 51ms/step - loss: 19.7499 - val_loss: 25.2058\n",
            "Epoch 71/100\n",
            "1/1 - 0s - 46ms/step - loss: 18.4783 - val_loss: 25.1154\n",
            "Epoch 72/100\n",
            "1/1 - 0s - 47ms/step - loss: 17.3110 - val_loss: 25.1137\n",
            "Epoch 73/100\n",
            "1/1 - 0s - 48ms/step - loss: 16.2416 - val_loss: 25.1895\n",
            "Epoch 74/100\n",
            "1/1 - 0s - 60ms/step - loss: 15.2637 - val_loss: 25.3322\n",
            "Epoch 75/100\n",
            "1/1 - 0s - 67ms/step - loss: 14.3710 - val_loss: 25.5321\n",
            "Epoch 76/100\n",
            "1/1 - 0s - 138ms/step - loss: 13.5573 - val_loss: 25.7799\n",
            "Epoch 77/100\n",
            "1/1 - 0s - 71ms/step - loss: 12.8169 - val_loss: 26.0672\n",
            "Epoch 78/100\n",
            "1/1 - 0s - 108ms/step - loss: 12.1441 - val_loss: 26.3862\n",
            "Epoch 79/100\n",
            "1/1 - 0s - 100ms/step - loss: 11.5335 - val_loss: 26.7298\n",
            "Epoch 80/100\n",
            "1/1 - 0s - 148ms/step - loss: 10.9800 - val_loss: 27.0918\n",
            "Epoch 81/100\n",
            "1/1 - 0s - 101ms/step - loss: 10.4789 - val_loss: 27.4662\n",
            "Epoch 82/100\n",
            "1/1 - 0s - 147ms/step - loss: 10.0256 - val_loss: 27.8482\n",
            "Epoch 83/100\n",
            "1/1 - 0s - 67ms/step - loss: 9.6159 - val_loss: 28.2332\n",
            "Epoch 84/100\n",
            "1/1 - 0s - 140ms/step - loss: 9.2458 - val_loss: 28.6173\n",
            "Epoch 85/100\n",
            "1/1 - 0s - 178ms/step - loss: 8.9118 - val_loss: 28.9972\n",
            "Epoch 86/100\n",
            "1/1 - 0s - 100ms/step - loss: 8.6105 - val_loss: 29.3700\n",
            "Epoch 87/100\n",
            "1/1 - 0s - 149ms/step - loss: 8.3388 - val_loss: 29.7332\n",
            "Epoch 88/100\n",
            "1/1 - 0s - 91ms/step - loss: 8.0937 - val_loss: 30.0847\n",
            "Epoch 89/100\n",
            "1/1 - 0s - 120ms/step - loss: 7.8727 - val_loss: 30.4231\n",
            "Epoch 90/100\n",
            "1/1 - 0s - 138ms/step - loss: 7.6735 - val_loss: 30.7469\n",
            "Epoch 91/100\n",
            "1/1 - 0s - 93ms/step - loss: 7.4938 - val_loss: 31.0552\n",
            "Epoch 92/100\n",
            "1/1 - 0s - 123ms/step - loss: 7.3316 - val_loss: 31.3472\n",
            "Epoch 93/100\n",
            "1/1 - 0s - 182ms/step - loss: 7.1853 - val_loss: 31.6223\n",
            "Epoch 94/100\n",
            "1/1 - 0s - 105ms/step - loss: 7.0530 - val_loss: 31.8803\n",
            "Epoch 95/100\n",
            "1/1 - 0s - 76ms/step - loss: 6.9335 - val_loss: 32.1210\n",
            "Epoch 96/100\n",
            "1/1 - 0s - 60ms/step - loss: 6.8252 - val_loss: 32.3445\n",
            "Epoch 97/100\n",
            "1/1 - 0s - 70ms/step - loss: 6.7271 - val_loss: 32.5509\n",
            "Epoch 98/100\n",
            "1/1 - 0s - 118ms/step - loss: 6.6381 - val_loss: 32.7403\n",
            "Epoch 99/100\n",
            "1/1 - 0s - 64ms/step - loss: 6.5572 - val_loss: 32.9133\n",
            "Epoch 100/100\n",
            "1/1 - 0s - 127ms/step - loss: 6.4836 - val_loss: 33.0703\n"
          ]
        }
      ],
      "source": [
        "# compiling the sequential model\n",
        "optim = optimizers.SGD(learning_rate=lr_rate) # This line is changed\n",
        "model3.compile(loss='MSE', optimizer=optim)\n",
        "\n",
        "# training the model and saving metrics in history\n",
        "history3 = model3.fit(X_train_pn, Y_train, epochs=epoch, validation_data=(X_val_pn, Y_val), verbose = 2)"
      ]
    },
    {
      "cell_type": "code",
      "execution_count": 30,
      "metadata": {
        "id": "u70PBRDGm_xB",
        "outputId": "960c3533-c789-4511-c024-61590441d511",
        "colab": {
          "base_uri": "https://localhost:8080/"
        }
      },
      "outputs": [
        {
          "output_type": "stream",
          "name": "stdout",
          "text": [
            "\u001b[1m1/1\u001b[0m \u001b[32m━━━━━━━━━━━━━━━━━━━━\u001b[0m\u001b[37m\u001b[0m \u001b[1m0s\u001b[0m 45ms/step\n"
          ]
        }
      ],
      "source": [
        "Y_pred3 = model3.predict(X_test_pn)"
      ]
    },
    {
      "cell_type": "code",
      "execution_count": 31,
      "metadata": {
        "id": "lQemie8Xm_xB",
        "outputId": "8a00a5db-58e1-429f-fb28-da4451d874b7",
        "colab": {
          "base_uri": "https://localhost:8080/",
          "height": 472
        }
      },
      "outputs": [
        {
          "output_type": "display_data",
          "data": {
            "text/plain": [
              "<Figure size 640x480 with 1 Axes>"
            ],
            "image/png": "[encoded data removed]"
          },
          "metadata": {}
        }
      ],
      "source": [
        "plt.plot(X_test,Y_pred3,'x', color=\"red\")\n",
        "plt.plot(X_test,Y_test,'x', color=\"green\")\n",
        "plt.title('Training data')\n",
        "plt.xlabel('Change in water level (X)')\n",
        "plt.ylabel('Water floeing out of the dam (Y)')\n",
        "plt.legend(['Prediction', 'Test'])\n",
        "plt.show()"
      ]
    },
    {
      "cell_type": "code",
      "execution_count": 32,
      "metadata": {
        "id": "C7hmKFU_m_xB",
        "outputId": "962e9eec-c68f-457d-b03f-0fd60b9fcf75",
        "colab": {
          "base_uri": "https://localhost:8080/",
          "height": 489
        }
      },
      "outputs": [
        {
          "output_type": "execute_result",
          "data": {
            "text/plain": [
              "<matplotlib.legend.Legend at 0x7d32c4e5aef0>"
            ]
          },
          "metadata": {},
          "execution_count": 32
        },
        {
          "output_type": "display_data",
          "data": {
            "text/plain": [
              "<Figure size 640x480 with 1 Axes>"
            ],
            "image/png": "[encoded data removed]"
          },
          "metadata": {}
        }
      ],
      "source": [
        "# plotting the metrics\n",
        "fig = plt.figure()\n",
        "plt.plot(history3.history['loss'])\n",
        "plt.plot(history3.history['val_loss'])\n",
        "plt.title('Loss functions')\n",
        "plt.ylabel('loss')\n",
        "plt.xlabel('epoch')\n",
        "plt.legend(['Train loss', 'Validation loss'])"
      ]
    },
    {
      "cell_type": "markdown",
      "metadata": {
        "id": "-TalQKcHm_xB"
      },
      "source": [
        "It can be seen that the model learns too much on the training samples and after the 60th epoch the cost function of the training samples continues to decrease, but the result on the validation samples starts to deteriorate. This means that although the cost function of the training samples performs well below an expected level, the cost function of the validation and test samples will be well above the expected result. The \"scissors are open\", there will be a large gap between the two cost functions.\n",
        "\n",
        "<img src=\"https://github.com/Fortuz/edu_Adaptive/blob/main/practices/assets/Lab08/Pics/L08_HighVariance.png?raw=1\" width=\"600\">"
      ]
    },
    {
      "cell_type": "markdown",
      "metadata": {
        "id": "tcolqh_bm_xB"
      },
      "source": [
        "### 5: Summary and Tips\n",
        "\n",
        "Underfitting (High Bias problem):\n",
        "- Adding more input parameters to the model (either independent or polynomial).\n",
        "- $\\lambda$ parameter reduction, i.e. less penalization.\n",
        "- Increase the epoch number.\n",
        "- Increase $\\alpha$ (learning rate).\n",
        "\n",
        "Overfitting (High Variance problem):\n",
        "- Less input parameter.\n",
        "- Increase the $\\lambda$ parameter, i.e. we penalize more.\n",
        "- More learning samples.\n",
        "- Reducing $\\alpha$ (learning rate)."
      ]
    },
    {
      "cell_type": "markdown",
      "metadata": {
        "id": "WkB8G1HCm_xB"
      },
      "source": [
        "<div style=\"text-align: right\">This lab exercise uses elements from Andrew Ng's Machine Learning course.</div>"
      ]
    }
  ],
  "metadata": {
    "kernelspec": {
      "display_name": "Python 3",
      "language": "python",
      "name": "python3"
    },
    "language_info": {
      "codemirror_mode": {
        "name": "ipython",
        "version": 3
      },
      "file_extension": ".py",
      "mimetype": "text/x-python",
      "name": "python",
      "nbconvert_exporter": "python",
      "pygments_lexer": "ipython3",
      "version": "3.7.7"
    },
    "colab": {
      "provenance": []
    }
  },
  "nbformat": 4,
  "nbformat_minor": 0
}